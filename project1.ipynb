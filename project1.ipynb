{
 "cells": [
  {
   "cell_type": "markdown",
   "metadata": {},
   "source": [
    "# MODS202 - Econometrics\n",
    "## Final Project - Nov 2024\n",
    "DE CARVALHO MACHADO PINHEIRO Rafaela  \n",
    "SANGINETO JUCA Marina"
   ]
  },
  {
   "cell_type": "markdown",
   "metadata": {},
   "source": [
    "#### ***Imports***"
   ]
  },
  {
   "cell_type": "code",
   "execution_count": 517,
   "metadata": {},
   "outputs": [],
   "source": [
    "import pandas as pd\n",
    "import numpy as np"
   ]
  },
  {
   "cell_type": "code",
   "execution_count": 518,
   "metadata": {},
   "outputs": [],
   "source": [
    "import matplotlib.pyplot as plt\n",
    "import statsmodels.api as sm\n",
    "from scipy.stats import t, f\n",
    "from statsmodels.tsa.stattools import adfuller\n",
    "from statsmodels.graphics.tsaplots import plot_acf, plot_pacf\n",
    "\n",
    "from statsmodels.stats.diagnostic import breaks_cusumolsresid\n",
    "import warnings\n",
    "warnings.filterwarnings(\"ignore\")"
   ]
  },
  {
   "cell_type": "markdown",
   "metadata": {},
   "source": [
    "### Part 1 - Cross-section Data\n",
    "Using the HPRICE2.RAW dataset."
   ]
  },
  {
   "cell_type": "code",
   "execution_count": 519,
   "metadata": {},
   "outputs": [
    {
     "data": {
      "text/html": [
       "<div>\n",
       "<style scoped>\n",
       "    .dataframe tbody tr th:only-of-type {\n",
       "        vertical-align: middle;\n",
       "    }\n",
       "\n",
       "    .dataframe tbody tr th {\n",
       "        vertical-align: top;\n",
       "    }\n",
       "\n",
       "    .dataframe thead th {\n",
       "        text-align: right;\n",
       "    }\n",
       "</style>\n",
       "<table border=\"1\" class=\"dataframe\">\n",
       "  <thead>\n",
       "    <tr style=\"text-align: right;\">\n",
       "      <th></th>\n",
       "      <th>price</th>\n",
       "      <th>crime</th>\n",
       "      <th>nox</th>\n",
       "      <th>rooms</th>\n",
       "      <th>dist</th>\n",
       "      <th>radial</th>\n",
       "      <th>proptax</th>\n",
       "      <th>stratio</th>\n",
       "      <th>lowstat</th>\n",
       "      <th>lprice</th>\n",
       "      <th>lnox</th>\n",
       "      <th>lproptax</th>\n",
       "    </tr>\n",
       "  </thead>\n",
       "  <tbody>\n",
       "    <tr>\n",
       "      <th>0</th>\n",
       "      <td>24000</td>\n",
       "      <td>0.006</td>\n",
       "      <td>5.38</td>\n",
       "      <td>6.57</td>\n",
       "      <td>4.09</td>\n",
       "      <td>1</td>\n",
       "      <td>29.6</td>\n",
       "      <td>15.3</td>\n",
       "      <td>4.98</td>\n",
       "      <td>10.085810</td>\n",
       "      <td>1.682688</td>\n",
       "      <td>5.690360</td>\n",
       "    </tr>\n",
       "    <tr>\n",
       "      <th>1</th>\n",
       "      <td>21599</td>\n",
       "      <td>0.027</td>\n",
       "      <td>4.69</td>\n",
       "      <td>6.42</td>\n",
       "      <td>4.97</td>\n",
       "      <td>2</td>\n",
       "      <td>24.2</td>\n",
       "      <td>17.8</td>\n",
       "      <td>9.14</td>\n",
       "      <td>9.980402</td>\n",
       "      <td>1.545433</td>\n",
       "      <td>5.488938</td>\n",
       "    </tr>\n",
       "    <tr>\n",
       "      <th>2</th>\n",
       "      <td>34700</td>\n",
       "      <td>0.027</td>\n",
       "      <td>4.69</td>\n",
       "      <td>7.18</td>\n",
       "      <td>4.97</td>\n",
       "      <td>2</td>\n",
       "      <td>24.2</td>\n",
       "      <td>17.8</td>\n",
       "      <td>4.03</td>\n",
       "      <td>10.454500</td>\n",
       "      <td>1.545433</td>\n",
       "      <td>5.488938</td>\n",
       "    </tr>\n",
       "    <tr>\n",
       "      <th>3</th>\n",
       "      <td>33400</td>\n",
       "      <td>0.032</td>\n",
       "      <td>4.58</td>\n",
       "      <td>7.00</td>\n",
       "      <td>6.06</td>\n",
       "      <td>3</td>\n",
       "      <td>22.2</td>\n",
       "      <td>18.7</td>\n",
       "      <td>2.94</td>\n",
       "      <td>10.416310</td>\n",
       "      <td>1.521699</td>\n",
       "      <td>5.402678</td>\n",
       "    </tr>\n",
       "    <tr>\n",
       "      <th>4</th>\n",
       "      <td>36199</td>\n",
       "      <td>0.069</td>\n",
       "      <td>4.58</td>\n",
       "      <td>7.15</td>\n",
       "      <td>6.06</td>\n",
       "      <td>3</td>\n",
       "      <td>22.2</td>\n",
       "      <td>18.7</td>\n",
       "      <td>5.33</td>\n",
       "      <td>10.496790</td>\n",
       "      <td>1.521699</td>\n",
       "      <td>5.402678</td>\n",
       "    </tr>\n",
       "  </tbody>\n",
       "</table>\n",
       "</div>"
      ],
      "text/plain": [
       "   price  crime   nox  rooms  dist  radial  proptax  stratio  lowstat  \\\n",
       "0  24000  0.006  5.38   6.57  4.09       1     29.6     15.3     4.98   \n",
       "1  21599  0.027  4.69   6.42  4.97       2     24.2     17.8     9.14   \n",
       "2  34700  0.027  4.69   7.18  4.97       2     24.2     17.8     4.03   \n",
       "3  33400  0.032  4.58   7.00  6.06       3     22.2     18.7     2.94   \n",
       "4  36199  0.069  4.58   7.15  6.06       3     22.2     18.7     5.33   \n",
       "\n",
       "      lprice      lnox  lproptax  \n",
       "0  10.085810  1.682688  5.690360  \n",
       "1   9.980402  1.545433  5.488938  \n",
       "2  10.454500  1.545433  5.488938  \n",
       "3  10.416310  1.521699  5.402678  \n",
       "4  10.496790  1.521699  5.402678  "
      ]
     },
     "execution_count": 519,
     "metadata": {},
     "output_type": "execute_result"
    }
   ],
   "source": [
    "df = pd.read_csv('HPRICE2.raw', delim_whitespace=True, header=None, names = [\"price\",\"crime\",\"nox\",\"rooms\",\"dist\",\"radial\",\"proptax\",\"stratio\",\"lowstat\",\"lprice\", \"lnox\", \"lproptax\"]) \n",
    "df.head()"
   ]
  },
  {
   "cell_type": "markdown",
   "metadata": {},
   "source": [
    "#### **1. State the fundamental hypothesis under which the Ordinary Least Squares (OLS) estimators are unbiased.**"
   ]
  },
  {
   "cell_type": "markdown",
   "metadata": {},
   "source": [
    "The expected value of the error term being equals to zero $E(\\epsilon | X)=0$ is the fundamental hypothesis under which the OLS estimators are unbiased. It comes from it's linearity and exogeneity assumptions, the Gauss-Markov theorem uses those to states that the ordinary least squares (OLS) estimator has the lowest sampling variance within the class of linear unbiased estimators."
   ]
  },
  {
   "cell_type": "markdown",
   "metadata": {},
   "source": [
    "#### **2. Show that under this assumption the OLS estimators are indeed unbiased.**\n"
   ]
  },
  {
   "cell_type": "markdown",
   "metadata": {},
   "source": [
    "Given the OLS estimator as:\n",
    "\n",
    "$\\hat{\\beta} = (X^{T}X)^{-1}X^{T}Y$\n",
    "\n",
    "Subistitute Y for the linear regression model:\n",
    "\n",
    "$Y=\\beta * X + \\epsilon$\n",
    "\n",
    "We got:\n",
    "\n",
    "$E[\\hat{\\beta}] = E[(X^{T}X)^{-1}X^{T}(\\beta X + \\epsilon)]$\n",
    "\n",
    "$E[\\hat{\\epsilon}]=E[(X^{T}X)^{-1}X^{T}X\\beta]+E[(X^{T}X)^{-1}X^{T}\\epsilon]$\n",
    "\n",
    "$(X^{T}X)^{-1}X^{T}X = I$ and $(X^{T}X)^{-1}X^{T}$ is some constant. Simplifying:\n",
    "\n",
    "$E[\\hat{\\beta}]=E[\\beta]+(X^{T}X)^{-1}X^{T}E[\\epsilon]$\n",
    "\n",
    "As $E[\\epsilon]=0$ and $\\beta$ is constant, we get that:\n",
    "\n",
    "$E[\\hat{\\beta}]=\\beta$\n",
    "\n",
    "What defines it as an unbiased estimator."
   ]
  },
  {
   "cell_type": "markdown",
   "metadata": {},
   "source": [
    "#### **3. Explain the sample selection bias with an example from the course.**"
   ]
  },
  {
   "cell_type": "markdown",
   "metadata": {},
   "source": [
    "Sample selection bias arises when the sample chosen for analysis does not represents the entire population by choosing non-random data, overstated or understated .One exemple from the course to ilustrate it is the one from World War II. \n",
    "\n",
    "Researchers analyzed the bullet holes on planes that returned from war zones in order to determine which areas of the plane's structure needed reinforcement. However, the sample group only included planes that were able to return safely, and did not include planes that had been shot down and destroyed. As a result, the sample was biased, as it did not account for the planes that were lost. The conclusion that reinforcing the areas with bullet holes was necessary was therefore incorrect, as the planes that returned were able to do so despite the damage, while the planes that were shot down likely had damage in different areas that were not observed. In reality, the researchers should have reinforced different areas of the plane's structure, since the sample was not representative of the full population of planes involved in the war effort. "
   ]
  },
  {
   "cell_type": "markdown",
   "metadata": {},
   "source": [
    "#### **4. Explain the omitted variable bias with an example from the course**"
   ]
  },
  {
   "cell_type": "markdown",
   "metadata": {},
   "source": [
    "Omitted variable bias occurs when a significant explanatory variable is excluded from a model, and this variable is correlated with both the included explanatory variables and the dependent variable. This omission can result in biased estimates of the coefficients for the included variables. For instance, when estimating the effect of education on income, if we fail to include an individual's ability as an explanatory variable, we risk bias. Since ability is likely correlated with both education and income, its exclusion would distort the estimated impact of education on income.\n",
    "\n",
    "One example from the course to ilustrate that is the estimation of the effect of education on income, if you fail to include ability as an explanatory variable, you will likely observe a biased estimate. This is because ability is likely correlated with both education and income, so excluding it from the model will cause the estimated effect of education on income to be biased."
   ]
  },
  {
   "cell_type": "markdown",
   "metadata": {},
   "source": [
    "#### **5. Explain the problem of multicollinearity. Is it a problem in this dataset?**"
   ]
  },
  {
   "cell_type": "markdown",
   "metadata": {},
   "source": [
    "The problem of multicollinearity occurs when two or more explanatory variables in a regression model are highly correlated with each other. This can lead to unstable and imprecise estimates of the coefficients, as it becomes difficult to disentangle the individual effects of the correlated variables. Multicollinearity can also make it difficult to determine the statistical significance of the individual coefficients. An example from the course could be estimating the effect of both years of education and years of work experience on income, as these two variables are likely to be highly correlated.\n"
   ]
  },
  {
   "cell_type": "code",
   "execution_count": 520,
   "metadata": {},
   "outputs": [
    {
     "name": "stdout",
     "output_type": "stream",
     "text": [
      "Determinant of X'X is 4.036293260430183e+42\n",
      "There is no multicollinearity in the data.\n"
     ]
    }
   ],
   "source": [
    "det_df = np.linalg.det(df.T @ df)\n",
    "\n",
    "print(f\"Determinant of X'X is {det_df}\")\n",
    "\n",
    "if np.isclose(det_df, 0):\n",
    "    print(\"There is multicollinearity in the data.\")\n",
    "else:\n",
    "    print(\"There is no multicollinearity in the data.\")"
   ]
  },
  {
   "cell_type": "markdown",
   "metadata": {},
   "source": [
    "From the results above, this dataset contains some highly correlated coefficients, such as radial the and the proptax with a correlation of 0.91. Therefore, we can state that the multicollinearity is a problem in this dataset"
   ]
  },
  {
   "cell_type": "markdown",
   "metadata": {},
   "source": [
    "#### **6. Create three categories of nox levels (low, medium, high), corresponding to the following percentiles: 0-25%, 26%-74%, 75%-100%**"
   ]
  },
  {
   "cell_type": "code",
   "execution_count": 521,
   "metadata": {},
   "outputs": [
    {
     "data": {
      "text/html": [
       "<div>\n",
       "<style scoped>\n",
       "    .dataframe tbody tr th:only-of-type {\n",
       "        vertical-align: middle;\n",
       "    }\n",
       "\n",
       "    .dataframe tbody tr th {\n",
       "        vertical-align: top;\n",
       "    }\n",
       "\n",
       "    .dataframe thead th {\n",
       "        text-align: right;\n",
       "    }\n",
       "</style>\n",
       "<table border=\"1\" class=\"dataframe\">\n",
       "  <thead>\n",
       "    <tr style=\"text-align: right;\">\n",
       "      <th></th>\n",
       "      <th>price</th>\n",
       "      <th>crime</th>\n",
       "      <th>nox</th>\n",
       "      <th>rooms</th>\n",
       "      <th>dist</th>\n",
       "      <th>radial</th>\n",
       "      <th>proptax</th>\n",
       "      <th>stratio</th>\n",
       "      <th>lowstat</th>\n",
       "      <th>lprice</th>\n",
       "      <th>lnox</th>\n",
       "      <th>lproptax</th>\n",
       "      <th>nox_level</th>\n",
       "    </tr>\n",
       "  </thead>\n",
       "  <tbody>\n",
       "    <tr>\n",
       "      <th>0</th>\n",
       "      <td>24000</td>\n",
       "      <td>0.006</td>\n",
       "      <td>5.38</td>\n",
       "      <td>6.57</td>\n",
       "      <td>4.09</td>\n",
       "      <td>1</td>\n",
       "      <td>29.6</td>\n",
       "      <td>15.3</td>\n",
       "      <td>4.98</td>\n",
       "      <td>10.085810</td>\n",
       "      <td>1.682688</td>\n",
       "      <td>5.690360</td>\n",
       "      <td>medium</td>\n",
       "    </tr>\n",
       "    <tr>\n",
       "      <th>1</th>\n",
       "      <td>21599</td>\n",
       "      <td>0.027</td>\n",
       "      <td>4.69</td>\n",
       "      <td>6.42</td>\n",
       "      <td>4.97</td>\n",
       "      <td>2</td>\n",
       "      <td>24.2</td>\n",
       "      <td>17.8</td>\n",
       "      <td>9.14</td>\n",
       "      <td>9.980402</td>\n",
       "      <td>1.545433</td>\n",
       "      <td>5.488938</td>\n",
       "      <td>medium</td>\n",
       "    </tr>\n",
       "    <tr>\n",
       "      <th>2</th>\n",
       "      <td>34700</td>\n",
       "      <td>0.027</td>\n",
       "      <td>4.69</td>\n",
       "      <td>7.18</td>\n",
       "      <td>4.97</td>\n",
       "      <td>2</td>\n",
       "      <td>24.2</td>\n",
       "      <td>17.8</td>\n",
       "      <td>4.03</td>\n",
       "      <td>10.454500</td>\n",
       "      <td>1.545433</td>\n",
       "      <td>5.488938</td>\n",
       "      <td>medium</td>\n",
       "    </tr>\n",
       "    <tr>\n",
       "      <th>3</th>\n",
       "      <td>33400</td>\n",
       "      <td>0.032</td>\n",
       "      <td>4.58</td>\n",
       "      <td>7.00</td>\n",
       "      <td>6.06</td>\n",
       "      <td>3</td>\n",
       "      <td>22.2</td>\n",
       "      <td>18.7</td>\n",
       "      <td>2.94</td>\n",
       "      <td>10.416310</td>\n",
       "      <td>1.521699</td>\n",
       "      <td>5.402678</td>\n",
       "      <td>medium</td>\n",
       "    </tr>\n",
       "    <tr>\n",
       "      <th>4</th>\n",
       "      <td>36199</td>\n",
       "      <td>0.069</td>\n",
       "      <td>4.58</td>\n",
       "      <td>7.15</td>\n",
       "      <td>6.06</td>\n",
       "      <td>3</td>\n",
       "      <td>22.2</td>\n",
       "      <td>18.7</td>\n",
       "      <td>5.33</td>\n",
       "      <td>10.496790</td>\n",
       "      <td>1.521699</td>\n",
       "      <td>5.402678</td>\n",
       "      <td>medium</td>\n",
       "    </tr>\n",
       "  </tbody>\n",
       "</table>\n",
       "</div>"
      ],
      "text/plain": [
       "   price  crime   nox  rooms  dist  radial  proptax  stratio  lowstat  \\\n",
       "0  24000  0.006  5.38   6.57  4.09       1     29.6     15.3     4.98   \n",
       "1  21599  0.027  4.69   6.42  4.97       2     24.2     17.8     9.14   \n",
       "2  34700  0.027  4.69   7.18  4.97       2     24.2     17.8     4.03   \n",
       "3  33400  0.032  4.58   7.00  6.06       3     22.2     18.7     2.94   \n",
       "4  36199  0.069  4.58   7.15  6.06       3     22.2     18.7     5.33   \n",
       "\n",
       "      lprice      lnox  lproptax nox_level  \n",
       "0  10.085810  1.682688  5.690360    medium  \n",
       "1   9.980402  1.545433  5.488938    medium  \n",
       "2  10.454500  1.545433  5.488938    medium  \n",
       "3  10.416310  1.521699  5.402678    medium  \n",
       "4  10.496790  1.521699  5.402678    medium  "
      ]
     },
     "execution_count": 521,
     "metadata": {},
     "output_type": "execute_result"
    }
   ],
   "source": [
    "low, high = df['nox'].quantile([0.25, 0.75])\n",
    "df['nox_level'] = pd.cut(df['nox'], bins=[df['nox'].min(), low, high, df['nox'].max()], labels=['low', 'medium', 'high'], include_lowest=True)\n",
    "df.head()"
   ]
  },
  {
   "cell_type": "markdown",
   "metadata": {},
   "source": [
    "#### **7. Compute for each category of nox level the average median price and comment on your results**"
   ]
  },
  {
   "cell_type": "code",
   "execution_count": 522,
   "metadata": {},
   "outputs": [
    {
     "data": {
      "text/html": [
       "<div>\n",
       "<style scoped>\n",
       "    .dataframe tbody tr th:only-of-type {\n",
       "        vertical-align: middle;\n",
       "    }\n",
       "\n",
       "    .dataframe tbody tr th {\n",
       "        vertical-align: top;\n",
       "    }\n",
       "\n",
       "    .dataframe thead th {\n",
       "        text-align: right;\n",
       "    }\n",
       "</style>\n",
       "<table border=\"1\" class=\"dataframe\">\n",
       "  <thead>\n",
       "    <tr style=\"text-align: right;\">\n",
       "      <th></th>\n",
       "      <th>NOx level</th>\n",
       "      <th>Average Price</th>\n",
       "    </tr>\n",
       "  </thead>\n",
       "  <tbody>\n",
       "    <tr>\n",
       "      <th>0</th>\n",
       "      <td>low</td>\n",
       "      <td>26977.093750</td>\n",
       "    </tr>\n",
       "    <tr>\n",
       "      <th>1</th>\n",
       "      <td>medium</td>\n",
       "      <td>22741.555118</td>\n",
       "    </tr>\n",
       "    <tr>\n",
       "      <th>2</th>\n",
       "      <td>high</td>\n",
       "      <td>17430.653226</td>\n",
       "    </tr>\n",
       "  </tbody>\n",
       "</table>\n",
       "</div>"
      ],
      "text/plain": [
       "  NOx level  Average Price\n",
       "0       low   26977.093750\n",
       "1    medium   22741.555118\n",
       "2      high   17430.653226"
      ]
     },
     "execution_count": 522,
     "metadata": {},
     "output_type": "execute_result"
    }
   ],
   "source": [
    "import pandas as pd\n",
    "grouped = df.groupby('nox_level')\n",
    "average_prices = grouped['price'].mean()\n",
    "\n",
    "average_pricestable = pd.DataFrame({'NOx level': average_prices.index, 'Average Price': average_prices.values})\n",
    "average_pricestable"
   ]
  },
  {
   "cell_type": "markdown",
   "metadata": {},
   "source": [
    "These values suggest a descending trend in average median prices as the NOx level increases. This could indicate a negative correlation between NOx levels and housing prices."
   ]
  },
  {
   "cell_type": "markdown",
   "metadata": {},
   "source": [
    "#### **8. Produce a scatter plot with the variable price on the y-axis and the variable nox on the x-axis. Is this a ceteris paribus effect?**"
   ]
  },
  {
   "cell_type": "code",
   "execution_count": 523,
   "metadata": {},
   "outputs": [
    {
     "data": {
      "image/png": "[encoded data removed]",
      "text/plain": [
       "<Figure size 640x480 with 1 Axes>"
      ]
     },
     "metadata": {},
     "output_type": "display_data"
    }
   ],
   "source": [
    "plt.scatter(df['nox'], df['price'])\n",
    "plt.xlabel('NOX')\n",
    "plt.ylabel('Price')\n",
    "plt.title('Scatter plot of Price vs NOX')\n",
    "plt.show()"
   ]
  },
  {
   "cell_type": "markdown",
   "metadata": {},
   "source": [
    "When analyzing the graph, it is possible to observe that the average prices increase as NOx levels rise. However, it cannot be asserted that this is a ceteris paribus effect because we do not know if the other variables are held constant, and a scatter plot alone is not sufficient. Moreover, it is possible to see that there are different prices for the same NOx level, indicating the likely presence of other variables influencing the price, which are therefore not constant."
   ]
  },
  {
   "cell_type": "markdown",
   "metadata": {},
   "source": [
    "#### **9. Run a regression of price on a constant, crime, nox, rooms, proptax. Comment on the histogram of the residuals. Interpret all coefficients.**"
   ]
  },
  {
   "cell_type": "code",
   "execution_count": 524,
   "metadata": {},
   "outputs": [
    {
     "name": "stdout",
     "output_type": "stream",
     "text": [
      "                            OLS Regression Results                            \n",
      "==============================================================================\n",
      "Dep. Variable:                  price   R-squared:                       0.575\n",
      "Model:                            OLS   Adj. R-squared:                  0.572\n",
      "Method:                 Least Squares   F-statistic:                     169.6\n",
      "Date:                Fri, 06 Dec 2024   Prob (F-statistic):           1.06e-91\n",
      "Time:                        22:18:07   Log-Likelihood:                -5119.6\n",
      "No. Observations:                 506   AIC:                         1.025e+04\n",
      "Df Residuals:                     501   BIC:                         1.027e+04\n",
      "Df Model:                           4                                         \n",
      "Covariance Type:            nonrobust                                         \n",
      "==============================================================================\n",
      "                 coef    std err          t      P>|t|      [0.025      0.975]\n",
      "------------------------------------------------------------------------------\n",
      "const      -1.868e+04   3215.205     -5.811      0.000    -2.5e+04   -1.24e+04\n",
      "crime       -136.5438     38.529     -3.544      0.000    -212.241     -60.846\n",
      "nox         -660.4672    314.634     -2.099      0.036   -1278.632     -42.303\n",
      "rooms       7797.9286    404.345     19.285      0.000    7003.507    8592.350\n",
      "proptax      -89.4144     23.966     -3.731      0.000    -136.500     -42.329\n",
      "==============================================================================\n",
      "Omnibus:                      264.796   Durbin-Watson:                   0.752\n",
      "Prob(Omnibus):                  0.000   Jarque-Bera (JB):             2348.397\n",
      "Skew:                           2.111   Prob(JB):                         0.00\n",
      "Kurtosis:                      12.673   Cond. No.                         546.\n",
      "==============================================================================\n",
      "\n",
      "Notes:\n",
      "[1] Standard Errors assume that the covariance matrix of the errors is correctly specified.\n"
     ]
    },
    {
     "data": {
      "image/png": "[encoded data removed]",
      "text/plain": [
       "<Figure size 640x480 with 1 Axes>"
      ]
     },
     "metadata": {},
     "output_type": "display_data"
    }
   ],
   "source": [
    "X = df[['crime', 'nox', 'rooms', 'proptax']]\n",
    "y_9 = df['price']\n",
    "\n",
    "X = sm.add_constant(X)\n",
    "\n",
    "model = sm.OLS(y_9, X)\n",
    "results9 = model.fit()\n",
    "print(results9.summary())\n",
    "\n",
    "plt.hist(results9.resid, bins='auto')\n",
    "plt.title('Histogram of residuals')\n",
    "plt.show()"
   ]
  },
  {
   "cell_type": "markdown",
   "metadata": {},
   "source": [
    "The OLS regression results show that all the variables (crime, nox, rooms, proptax) are statistically significant to the price variation as their p-values are less than 0.05.\n",
    "\n",
    "The coefficients indicate that the price is negatively correlated with crime, nox, and proptax, and positively correlated with rooms.\n",
    "\n",
    "The histogram of residuals follows a normal distribution. It suggests that the linear regression model might fit for this data."
   ]
  },
  {
   "cell_type": "markdown",
   "metadata": {},
   "source": [
    "#### **10. Run a regression of lprice on a *constant, crime, nox, rooms, proptax*. Interpret all coefficients.**\n"
   ]
  },
  {
   "cell_type": "code",
   "execution_count": 525,
   "metadata": {},
   "outputs": [
    {
     "name": "stdout",
     "output_type": "stream",
     "text": [
      "                            OLS Regression Results                            \n",
      "==============================================================================\n",
      "Dep. Variable:                 lprice   R-squared:                       0.611\n",
      "Model:                            OLS   Adj. R-squared:                  0.608\n",
      "Method:                 Least Squares   F-statistic:                     196.9\n",
      "Date:                Fri, 06 Dec 2024   Prob (F-statistic):          2.50e-101\n",
      "Time:                        22:18:07   Log-Likelihood:                -26.367\n",
      "No. Observations:                 506   AIC:                             62.73\n",
      "Df Residuals:                     501   BIC:                             83.87\n",
      "Df Model:                           4                                         \n",
      "Covariance Type:            nonrobust                                         \n",
      "==============================================================================\n",
      "                 coef    std err          t      P>|t|      [0.025      0.975]\n",
      "------------------------------------------------------------------------------\n",
      "const          8.6550      0.137     63.320      0.000       8.386       8.924\n",
      "crime         -0.0125      0.002     -7.641      0.000      -0.016      -0.009\n",
      "nox           -0.0476      0.013     -3.557      0.000      -0.074      -0.021\n",
      "rooms          0.2816      0.017     16.379      0.000       0.248       0.315\n",
      "proptax       -0.0043      0.001     -4.184      0.000      -0.006      -0.002\n",
      "==============================================================================\n",
      "Omnibus:                      118.409   Durbin-Watson:                   0.764\n",
      "Prob(Omnibus):                  0.000   Jarque-Bera (JB):              730.140\n",
      "Skew:                           0.859   Prob(JB):                    2.83e-159\n",
      "Kurtosis:                       8.629   Cond. No.                         546.\n",
      "==============================================================================\n",
      "\n",
      "Notes:\n",
      "[1] Standard Errors assume that the covariance matrix of the errors is correctly specified.\n"
     ]
    },
    {
     "data": {
      "image/png": "[encoded data removed]",
      "text/plain": [
       "<Figure size 640x480 with 1 Axes>"
      ]
     },
     "metadata": {},
     "output_type": "display_data"
    }
   ],
   "source": [
    "X = df[['crime', 'nox', 'rooms', 'proptax']]\n",
    "y_10 = df['lprice']\n",
    "\n",
    "X = sm.add_constant(X)\n",
    "\n",
    "model = sm.OLS(y_10, X)\n",
    "results10 = model.fit()\n",
    "print(results10.summary())\n",
    "\n",
    "plt.hist(results10.resid, bins='auto')\n",
    "plt.title('Histogram of residuals')\n",
    "plt.show()\n"
   ]
  },
  {
   "cell_type": "markdown",
   "metadata": {},
   "source": [
    "The OLS regression results show that all the variables (crime, nox, rooms, proptax) are statistically significant to lprice variation as their p-values are less than 0.05.\n",
    "\n",
    "The coefficients indicate that the price is negatively correlated with crime, nox, and proptax, and positively correlated with rooms.\n",
    "\n",
    "The histogram of residuals follows a normal distribution. It suggests that the linear regression model might fit for this data.\n",
    "\n",
    "Comparing with the results of the previous model, the coefficients are smaller in this model. And the R-squared is higher in this model, which means that this model fits better than the previous one."
   ]
  },
  {
   "cell_type": "markdown",
   "metadata": {},
   "source": [
    "#### **11. Run a regression of lprice on a *constant, crime, lnox, rooms, lproptax*. Interpret all coefficients.**"
   ]
  },
  {
   "cell_type": "code",
   "execution_count": 526,
   "metadata": {},
   "outputs": [
    {
     "name": "stdout",
     "output_type": "stream",
     "text": [
      "                            OLS Regression Results                            \n",
      "==============================================================================\n",
      "Dep. Variable:                 lprice   R-squared:                       0.612\n",
      "Model:                            OLS   Adj. R-squared:                  0.609\n",
      "Method:                 Least Squares   F-statistic:                     197.4\n",
      "Date:                Fri, 06 Dec 2024   Prob (F-statistic):          1.77e-101\n",
      "Time:                        22:18:07   Log-Likelihood:                -26.021\n",
      "No. Observations:                 506   AIC:                             62.04\n",
      "Df Residuals:                     501   BIC:                             83.18\n",
      "Df Model:                           4                                         \n",
      "Covariance Type:            nonrobust                                         \n",
      "==============================================================================\n",
      "                 coef    std err          t      P>|t|      [0.025      0.975]\n",
      "------------------------------------------------------------------------------\n",
      "const          9.7505      0.253     38.476      0.000       9.253      10.248\n",
      "crime         -0.0128      0.002     -8.002      0.000      -0.016      -0.010\n",
      "lnox          -0.2769      0.077     -3.591      0.000      -0.428      -0.125\n",
      "rooms          0.2802      0.017     16.282      0.000       0.246       0.314\n",
      "lproptax      -0.1779      0.042     -4.215      0.000      -0.261      -0.095\n",
      "==============================================================================\n",
      "Omnibus:                      116.110   Durbin-Watson:                   0.768\n",
      "Prob(Omnibus):                  0.000   Jarque-Bera (JB):              716.737\n",
      "Skew:                           0.838   Prob(JB):                    2.30e-156\n",
      "Kurtosis:                       8.585   Cond. No.                         241.\n",
      "==============================================================================\n",
      "\n",
      "Notes:\n",
      "[1] Standard Errors assume that the covariance matrix of the errors is correctly specified.\n"
     ]
    },
    {
     "data": {
      "image/png": "[encoded data removed]",
      "text/plain": [
       "<Figure size 640x480 with 1 Axes>"
      ]
     },
     "metadata": {},
     "output_type": "display_data"
    }
   ],
   "source": [
    "X = df[['crime', 'lnox', 'rooms', 'lproptax']]\n",
    "y = df['lprice']\n",
    "\n",
    "X = sm.add_constant(X)\n",
    "\n",
    "model = sm.OLS(y, X)\n",
    "results11 = model.fit()\n",
    "print(results11.summary())\n",
    "\n",
    "plt.hist(results11.resid, bins='auto')\n",
    "plt.title('Histogram of residuals')\n",
    "plt.show()"
   ]
  },
  {
   "cell_type": "markdown",
   "metadata": {},
   "source": [
    "The OLS regression results show that all the variables (crime, lnox, rooms, lproptax) are statistically significant to lprice variation as their p-values are less than 0.05.\n",
    "\n",
    "The coefficients indicate that the price is negatively correlated with crime, lnox, and lproptax, and positively correlated with rooms.\n",
    "\n",
    "The histogram of residuals follows a normal distribution. It suggests that the linear regression model might fit for this data.\n",
    "\n",
    "The R-squared is a little bit higher than the previous model, which means that this model fits better than the previous one.\n"
   ]
  },
  {
   "cell_type": "markdown",
   "metadata": {},
   "source": [
    "#### **12. In the specification of question 9, test the hypothesis $H_{0}: β_{nox} = 0$ vs. $H_{1}: β_{nox} ≠ 0$ at the 1% level using the p-value of the test**"
   ]
  },
  {
   "cell_type": "code",
   "execution_count": 527,
   "metadata": {},
   "outputs": [
    {
     "name": "stdout",
     "output_type": "stream",
     "text": [
      "T-statistic: -7.640950055881998\n",
      "P-value: 0.9999999999999447\n",
      "We do not reject the null hypothesis at the 1% level.\n"
     ]
    }
   ],
   "source": [
    "alpha = 0.01\n",
    "\n",
    "t_statistic = results10.params['crime'] / results10.bse['crime']\n",
    "\n",
    "k = len(results10.params) - 1\n",
    "ndf = len(y_10) - k - 1\n",
    "\n",
    "p_value = t.cdf(abs(t_statistic), df=ndf)\n",
    "\n",
    "\n",
    "print('T-statistic:', t_statistic)\n",
    "print('P-value:', p_value)\n",
    "\n",
    "if p_value < alpha:\n",
    "    print(\"We reject the null hypothesis at the 1% level.\")\n",
    "else:\n",
    "    print(\"We do not reject the null hypothesis at the 1% level.\")"
   ]
  },
  {
   "cell_type": "markdown",
   "metadata": {},
   "source": [
    "#### **13. In the specification of question 9, test the hypothesis $H_{0}: β_{crime} = β_{proptax}$ at the 10% level**"
   ]
  },
  {
   "cell_type": "code",
   "execution_count": 528,
   "metadata": {},
   "outputs": [
    {
     "name": "stdout",
     "output_type": "stream",
     "text": [
      "p_value =  0.00041069590525885213\n",
      "We reject the null hypothesis at the 1% level.\n"
     ]
    }
   ],
   "source": [
    "p_value = results10.pvalues['nox']\n",
    "alpha = 0.01\n",
    "print('p_value = ', p_value)\n",
    "\n",
    "if p_value < alpha:\n",
    "    print(\"We reject the null hypothesis at the 1% level.\")\n",
    "else:\n",
    "    print(\"We do not reject the null hypothesis at the 1% level.\")"
   ]
  },
  {
   "cell_type": "markdown",
   "metadata": {},
   "source": [
    "#### **14. In the specification of question 9, test the hypothesis $H_{0}: β_{nox} = 0, β_{proptax} = 0$ at the 10% level**"
   ]
  },
  {
   "cell_type": "markdown",
   "metadata": {},
   "source": [
    "Model:\n",
    "\n",
    "$$\n",
    "\\text{{lprice}} = \\beta_0 + \\beta_1 \\cdot \\text{{crime}} + \\beta_2 \\cdot \\text{{nox}} + \\beta_3 \\cdot \\text{{rooms}} + \\beta_4 \\cdot \\text{{proptax}} + u\n",
    "$$\n",
    "\n",
    "$$\n",
    "\\theta = \\beta_1 - \\beta_4\n",
    "$$\n",
    "\n",
    "Hypotheses:\n",
    "\n",
    "$$\n",
    "H_0: \\theta = 0\n",
    "$$\n",
    "\n",
    "$$\n",
    "H_1: \\theta \\neq 0\n",
    "$$\n",
    "\n",
    "Expressing $\\beta_1$ in terms of $\\theta$ and $\\beta_4$:\n",
    "\n",
    "$$\n",
    "\\beta_1 = \\theta + \\beta_4\n",
    "$$\n",
    "\n",
    "Substituting $\\beta_1$ back into the model:\n",
    "\n",
    "$$\n",
    "\\text{{lprice}} = \\beta_0 + (\\theta + \\beta_4) \\cdot \\text{{crime}} + \\beta_2 \\cdot \\text{{nox}} + \\beta_3 \\cdot \\text{{rooms}} + \\beta_4 \\cdot \\text{{proptax}} + u\n",
    "$$\n",
    "$$\n",
    "\\text{{lprice}} = \\beta_0 + \\theta \\cdot \\text{{crime}} + \\beta_2 \\cdot \\text{{nox}} + \\beta_3 \\cdot \\text{{rooms}} + \\beta_4 \\cdot (\\text{{crime}} + \\text{{proptax}}) + u\n",
    "$$\n",
    "\n",
    "Creating a new variable:\n",
    "\n",
    "$$\n",
    "\\text{{crime\\_tax}} = \\text{{crime}} + \\text{{proptax}}\n",
    "$$\n",
    "\n",
    "Perform OLS regression:\n",
    "\n",
    "$$\n",
    "\\text{{model}}: \\quad \\text{{lprice}} = \\beta_0 + \\theta \\cdot \\text{{crime}} + \\beta_2 \\cdot \\text{{nox}} + \\beta_3 \\cdot \\text{{rooms}} + \\beta_4 \\cdot (\\text{{crime}} + \\text{{proptax}}) + u\n",
    "$$\n",
    "\n",
    "Hypothesis test:\n",
    "\n",
    "$$\n",
    "H_0: b_j = a_j  \\quad \\Rightarrow \\quad \\theta = 0\n",
    "$$\n",
    "\n",
    "$$\n",
    "t = \\frac{{b_j - a_j}}{{\\text{{se}}(b_j)}}\n",
    "$$\n",
    "\n",
    "$$\n",
    "t = \\frac{{\\theta}}{{\\text{{se}}(\\theta)}}\n",
    "$$\n"
   ]
  },
  {
   "cell_type": "code",
   "execution_count": 529,
   "metadata": {},
   "outputs": [
    {
     "name": "stdout",
     "output_type": "stream",
     "text": [
      "p_value: 0.0003202080646098217\n",
      "t-stat: -3.62358083660925\n",
      "We reject the null hypothesis at the 10.0 % level.\n"
     ]
    }
   ],
   "source": [
    "X = df[['crime', 'nox', 'rooms']].copy()\n",
    "X['crime_tax'] = X['crime'] + df['proptax']\n",
    "X = sm.add_constant(X)\n",
    "\n",
    "y = df['lprice']\n",
    "\n",
    "model = sm.OLS(y, X)\n",
    "results14 = model.fit()\n",
    "\n",
    "# Hypothesis test:\n",
    "# t = theta / se(theta)\n",
    "t_stat = results14.params['crime'] / results14.bse['crime']\n",
    "\n",
    "alpha = 0.1\n",
    "k = len(results14.params) - 1 \n",
    "ndf = len(y) - k - 1 # number of degrees of freedom\n",
    "p_value = 2 * t.sf(abs(t_stat), df=ndf)\n",
    "\n",
    "print('p_value:', p_value)\n",
    "print('t-stat:', t_stat)\n",
    "\n",
    "if p_value < alpha:\n",
    "  print(\"We reject the null hypothesis at the\", alpha*100, \"% level.\")\n",
    "else:\n",
    "  print(\"We do not reject the null hypothesis at the\", alpha*100, \"% level.\")"
   ]
  },
  {
   "cell_type": "markdown",
   "metadata": {},
   "source": [
    "#### **15. In the specification of question 9, test the hypothesis $H0: βnox = -500, βproptax = -100$ at the 10% level using the p-value of the test**"
   ]
  },
  {
   "cell_type": "code",
   "execution_count": 530,
   "metadata": {},
   "outputs": [
    {
     "name": "stdout",
     "output_type": "stream",
     "text": [
      "F Statistic: 33.348835962831714\n",
      "p-value: 5.0587528451219665e-14\n",
      "Reject the null hypothesis\n"
     ]
    }
   ],
   "source": [
    "x_unrestricted = sm.add_constant(df[['crime', 'nox', 'rooms', 'proptax']])\n",
    "x_restricted = sm.add_constant(df[['crime', 'rooms']])\n",
    "\n",
    "y = df['lprice']\n",
    "\n",
    "model_unrestricted = sm.OLS(y, x_unrestricted)\n",
    "model_restricted = sm.OLS(y, x_restricted)\n",
    "\n",
    "results_unrestricted = model_unrestricted.fit()\n",
    "results_restricted = model_restricted.fit()\n",
    "\n",
    "# Hypothesis test:\n",
    "SSR_unrestricted = results_unrestricted.ssr\n",
    "SSR_restricted = results_restricted.ssr\n",
    "\n",
    "k_unrestricted = x_unrestricted.shape[1] - 1\n",
    "k_restricted = x_restricted.shape[1] - 1\n",
    "\n",
    "q = k_unrestricted - k_restricted  # numerator degrees of freedom\n",
    "n = len(y)\n",
    "ddf = n - k_unrestricted - 1  # denominator degrees of freedom\n",
    "\n",
    "F_statistic = ((SSR_restricted - SSR_unrestricted) / q) / \\\n",
    "    (SSR_unrestricted / ddf)\n",
    "\n",
    "\n",
    "alpha = 0.10  # 10% significance level\n",
    "p_value = 2 * f.sf(F_statistic, q, ddf)\n",
    "\n",
    "print(f'F Statistic: {F_statistic}')\n",
    "print(f'p-value: {p_value}')\n",
    "\n",
    "if p_value < alpha:\n",
    "    print('Reject the null hypothesis')\n",
    "else:\n",
    "    print('Fail to reject the null hypothesis')"
   ]
  },
  {
   "cell_type": "markdown",
   "metadata": {},
   "source": [
    "#### **16. In the specification of question 9, test the hypothesis that all coefficients are the same for observations with low levels of nox vs. medium and high levels of *nox*.**"
   ]
  },
  {
   "cell_type": "markdown",
   "metadata": {},
   "source": [
    "Unrestricted model:\n",
    "\n",
    "$$\n",
    "\\text{{lprice}} = \\beta_0 + \\beta_1 \\cdot \\text{{crime}} + \\beta_2 \\cdot \\text{{nox}} + \\beta_3 \\cdot \\text{{rooms}} + \\beta_4 \\cdot \\text{{proptax}} + u\n",
    "$$\n",
    "\n",
    "Restricted model:\n",
    "\n",
    "$$\n",
    "\\text{{lprice}} - \\beta_2 \\cdot \\text{{nox}} - \\beta_4 \\cdot \\text{{proptax}} = \\beta_0 + \\beta_1 \\cdot \\text{{crime}} + \\beta_3 \\cdot \\text{{rooms}}\n",
    "$$\n",
    "\n",
    "Given values:\n",
    "\n",
    "$$\n",
    "\\beta_2 = -500, \\quad \\beta_4 = -100\n",
    "$$\n",
    "\n",
    "Substituting the values into the restricted model:\n",
    "\n",
    "$$\n",
    "\\text{{lprice}} + 500 \\cdot \\text{{nox}} + 100 \\cdot \\text{{proptax}} = \\beta_0 + \\beta_1 \\cdot \\text{{crime}} + \\beta_3 \\cdot \\text{{rooms}}\n",
    "$$\n",
    "\n",
    "This represents the restricted model with the specified values for $\\beta_2$ and $\\beta_4$.\n"
   ]
  },
  {
   "cell_type": "code",
   "execution_count": 531,
   "metadata": {},
   "outputs": [
    {
     "name": "stdout",
     "output_type": "stream",
     "text": [
      "P-Value: 0.0\n",
      "F-Statistic: 10798305112.262835\n",
      "Reject the null hypothesis\n"
     ]
    }
   ],
   "source": [
    "x_unrestricted = sm.add_constant(df[['crime', 'nox', 'rooms', 'proptax']])\n",
    "x_restricted = sm.add_constant(df[['crime', 'rooms']])\n",
    "\n",
    "y_unrestricted = df['lprice']\n",
    "y_restricted = df['lprice'] + 500 * df['nox'] + 100 * df['proptax']\n",
    "\n",
    "model_unrestricted = sm.OLS(y_unrestricted, x_unrestricted)\n",
    "model_restricted = sm.OLS(y_restricted, x_restricted)\n",
    "\n",
    "results_unrestricted = model_unrestricted.fit()\n",
    "results_restricted = model_restricted.fit()\n",
    "\n",
    "# Hypothesis test:\n",
    "SSR_unrestricted = results_unrestricted.ssr\n",
    "SSR_restricted = results_restricted.ssr\n",
    "\n",
    "k_unrestricted = x_unrestricted.shape[1] - 1\n",
    "k_restricted = x_restricted.shape[1] - 1\n",
    "\n",
    "q = k_unrestricted - k_restricted  # numerator degrees of freedom\n",
    "n = len(y)\n",
    "ddf = n - k_unrestricted - 1  # denominator degrees of freedom\n",
    "\n",
    "F_statistic = ((SSR_restricted - SSR_unrestricted) / q) / \\\n",
    "    (SSR_unrestricted / ddf)\n",
    "\n",
    "\n",
    "p_value = 2 * f.sf(F_statistic, q, ddf)\n",
    "\n",
    "alpha = 0.10  # 10% significance level\n",
    "\n",
    "print(f'P-Value: {p_value}')\n",
    "print(f'F-Statistic: {F_statistic}')\n",
    "\n",
    "if p_value < alpha:\n",
    "    print('Reject the null hypothesis')\n",
    "else:\n",
    "    print('Fail to reject the null hypothesis')"
   ]
  },
  {
   "cell_type": "markdown",
   "metadata": {},
   "source": [
    "#### **17. Repeat the test of question 16 but now assuming that only the coefficients of nox and proptax can change between the two groups of observations. State and test $H_{0}$.**"
   ]
  },
  {
   "cell_type": "markdown",
   "metadata": {},
   "source": [
    "$$\n",
    "\\text{{model}}: \\text{{lprice}} = \\beta_0 + \\beta_1 \\cdot \\text{{crime}} + \\beta_2 \\cdot \\text{{nox}} + \\beta_3 \\cdot \\text{{rooms}} + \\beta_4 \\cdot \\text{{proptax}} + u\n",
    "$$\n",
    "\n",
    "$$\n",
    "\\theta = \\beta_2 + \\beta_4\n",
    "$$\n",
    "\n",
    "Hypotheses:\n",
    "- $H_0: \\theta = -1000$\n",
    "- $H_1: \\theta \\neq -1000$\n",
    "\n",
    "Expressing $\\beta_2$ in terms of $\\theta$ and $\\beta_4$:\n",
    "\n",
    "$$\n",
    "\\beta_2 = \\theta - \\beta_4\n",
    "$$\n",
    "\n",
    "Substituting $\\beta_2$ back into the model:\n",
    "\n",
    "$$\n",
    "\\text{{lprice}} = \\beta_0 + \\beta_1 \\cdot \\text{{crime}} + (\\theta - \\beta_4) \\cdot \\text{{nox}} + \\beta_3 \\cdot \\text{{rooms}} + \\beta_4 \\cdot \\text{{proptax}} + u\n",
    "$$\n",
    "$$\n",
    "\\text{{lprice}} = \\beta_0 + \\beta_1 \\cdot \\text{{crime}} + \\theta \\cdot \\text{{nox}} + \\beta_3 \\cdot \\text{{rooms}} + \\beta_4 \\cdot \n",
    "(\\text{{proptax}} - \\text{{nox}}) + u\n",
    "$$\n",
    "Creating a new variable:\n",
    "\n",
    "$$\n",
    "\\text{{proptax\\_nox}} = \\text{{proptax}} - \\text{{nox}}\n",
    "$$\n",
    "\n",
    "Perform OLS regression:\n",
    "\n",
    "$$\n",
    "\\text{{model}}: \\quad \\text{{lprice}} = \\beta_0 + \\beta_1 \\cdot \\text{{crime}} + \\theta \\cdot \\text{{nox}} + \\beta_3 \\cdot \\text{{rooms}} + \\beta_4 \\cdot \\text{{proptax\\_nox}} + u\n",
    "$$\n",
    "\n",
    "Hypothesis test:\n",
    "\n",
    "$$\n",
    "H_0: b_j = a_j  \\quad \\Rightarrow \\quad \\theta = -1000\n",
    "$$\n",
    "\n",
    "$$\n",
    "t = \\frac{{b_j - a_j}}{{\\text{{se}}(b_j)}}\n",
    "$$\n",
    "\n",
    "$$\n",
    "t = \\frac{{\\theta + 1000}}{{\\text{{se}}(\\theta)}}\n",
    "$$\n"
   ]
  },
  {
   "cell_type": "code",
   "execution_count": 532,
   "metadata": {},
   "outputs": [
    {
     "name": "stdout",
     "output_type": "stream",
     "text": [
      "P-value: 0.0\n",
      "t-stat: 77853.88070132492\n",
      "We reject the null hypothesis at the 10.0 % level.\n"
     ]
    }
   ],
   "source": [
    "X = df[['crime', 'nox', 'rooms']].copy()\n",
    "X['proptax_nox'] = df['proptax'] - df['nox']\n",
    "X = sm.add_constant(X)\n",
    "\n",
    "y = df['lprice']\n",
    "\n",
    "model = sm.OLS(y, X)\n",
    "results14 = model.fit()\n",
    "\n",
    "beta_1 = results14.params['nox']\n",
    "t_stat = (beta_1 + 1000) / results14.bse['nox']\n",
    "\n",
    "alpha = 0.1\n",
    "k = len(results14.params) - 1\n",
    "ndf = len(y) - k - 1 # number of degrees of freedom. \n",
    "\n",
    "p_value = 2 * t.sf(abs(t_stat), df=ndf)\n",
    "\n",
    "print('P-value:', p_value)\n",
    "print('t-stat:', t_stat)\n",
    "\n",
    "if p_value < alpha:\n",
    "  print(\"We reject the null hypothesis at the\", alpha*100, \"% level.\")\n",
    "else:\n",
    "  print(\"We do not reject the null hypothesis at the\", alpha*100, \"% level.\")"
   ]
  },
  {
   "cell_type": "markdown",
   "metadata": {},
   "source": [
    "### Part 2 - Heteroskedasticity"
   ]
  },
  {
   "cell_type": "markdown",
   "metadata": {},
   "source": [
    "#### **18. Explain the problem of heteroskedasticity with an example of the course.**"
   ]
  },
  {
   "cell_type": "markdown",
   "metadata": {},
   "source": [
    "18.In the specification of question 10, test the hypothesis that all coefficients are the same for observations with low levels of nox vs. medium and high levels of nox.  \n",
    "First step: estimate the coefficient for low levels of nox:\n",
    "\n",
    "$$\n",
    "\\text{{model}}: \\quad \\text{{lprice}} = \\beta_0 + \\beta_1 \\cdot \\text{{crime}} + \\beta_2 \\cdot \\text{{nox}} + \\beta_3 \\cdot \\text{{rooms}} + \\beta_4 \\cdot \\text{{proptax}} + u\n",
    "$$\n",
    "\n",
    "Now we know the coefficients, and we can make the hypothesis test for medium and high levels of nox:\n",
    "\n",
    "- $H_0$: $b_{i_{\\text{{low}}}} = b_{i_{\\text{{high\\_medium}}}} \\quad \\forall \\; i$\n",
    "- $H_1$: $b_{i_{\\text{{low}}}} \\neq b_{i_{\\text{{high\\_medium}}}} \\quad \\exists \\; i$\n",
    "\n",
    "$$\n",
    "\\text{{Restricted model}}: \\quad \\text{{lprice}} - \\beta_1 \\cdot \\text{{crime}} - \\beta_2 \\cdot \\text{{nox}} - \\beta_3 \\cdot \\text{{rooms}} - \\beta_4 \\cdot \\text{{proptax}} = \\beta_0 + u\n",
    "$$\n",
    "\n",
    "where $\\beta_n \\forall\\; n \\in \\{1,2,3,4\\}$ are the coefficients estimated in the previous model."
   ]
  },
  {
   "cell_type": "code",
   "execution_count": 533,
   "metadata": {},
   "outputs": [
    {
     "name": "stdout",
     "output_type": "stream",
     "text": [
      "P-Value: 0.0\n",
      "F-Statistic: 37988.17576772672\n",
      "Reject the null hypothesis\n"
     ]
    }
   ],
   "source": [
    "# First step: estimate the coefficient for low levels of nox\n",
    "x_unrestricted = df[df['nox_level'] == 'low'][[\n",
    "    'crime', 'nox', 'rooms', 'proptax']]\n",
    "x_unrestricted = sm.add_constant(x_unrestricted)\n",
    "\n",
    "y_unrestricted = df[df['nox_level'] == 'low']['lprice']\n",
    "\n",
    "model = sm.OLS(y_unrestricted, x_unrestricted)\n",
    "results_unrestricted = model.fit()\n",
    "\n",
    "# Restricted model:\n",
    "\n",
    "x_medium_high = df[df['nox_level'] != 'low'][[\n",
    "    'crime', 'nox', 'rooms', 'proptax']]\n",
    "y_medium_high = df[df['nox_level'] != 'low']['lprice']\n",
    "\n",
    "x_restricted = sm.add_constant(x_medium_high)[\n",
    "    ['const']]  # Only the constant goes here\n",
    "y_restricted = y_medium_high - results_unrestricted.params['crime'] * x_medium_high['crime'] \\\n",
    "    - results_unrestricted.params['nox'] * x_medium_high['nox']\\\n",
    "    - results_unrestricted.params['rooms'] * x_medium_high['rooms'] \\\n",
    "    - results_unrestricted.params['proptax'] * x_medium_high['proptax']\n",
    "\n",
    "model_restricted = sm.OLS(y_restricted, x_restricted)\n",
    "results_restricted = model_restricted.fit()\n",
    "\n",
    "# Hypothesis test:\n",
    "SSR_unrestricted = results_unrestricted.ssr\n",
    "SSR_restricted = results_restricted.ssr\n",
    "\n",
    "k_unrestricted = x_unrestricted.shape[1] - 1\n",
    "k_restricted = x_restricted.shape[1] - 1\n",
    "\n",
    "q = k_unrestricted - k_restricted  # numerator degrees of freedom\n",
    "\n",
    "n = len(y)\n",
    "ddf = n - k_unrestricted - 1  # denominator degrees of freedom\n",
    "\n",
    "F_statistic = ((SSR_restricted - SSR_unrestricted) / q) / \\\n",
    "    (SSR_unrestricted / ddf)\n",
    "\n",
    "\n",
    "alpha = 0.10  # 10% significance level\n",
    "p_value = f.sf(F_statistic, q, ddf)\n",
    "\n",
    "print(f'P-Value: {p_value}')\n",
    "print(f'F-Statistic: {F_statistic}')\n",
    "\n",
    "if p_value < alpha:\n",
    "    print('Reject the null hypothesis')\n",
    "else:\n",
    "    print('Fail to reject the null hypothesis')"
   ]
  },
  {
   "cell_type": "markdown",
   "metadata": {},
   "source": [
    "#### **19. In the specification of question 9, test the hypothesis of no heteroskedasticity of linear form, i.e. in the regression of u2 on constant, crime, nox, rooms, proptax, test $H_{0}: \\delta_{crime}, \\delta_{nox}, \\delta_{room}, \\delta_{proptax} = 0$, where the coefficients $\\delta_{k}$ (k = crime, nox, rooms, proptax) are associated with the corresponding explanatory variables.**"
   ]
  },
  {
   "cell_type": "markdown",
   "metadata": {},
   "source": [
    "19.Repeat the test of question 18 but now assuming that only the coefficients of nox and proptax can change between the two groups of observations. State and test $H_0$  \n",
    "Now that we have the coefficients, we can conduct a hypothesis test for medium and high levels of NOx. The hypotheses are as follows:\n",
    "\n",
    "- Null Hypothesis ($H_0$): $b_{i_{\\text{low}}} = b_{i_{\\text{high\\_medium}}} \\quad \\forall \\; i \\in \\{2,4\\}$\n",
    "- Alternative Hypothesis ($H_1$): $b_{i_{\\text{low}}} \\neq b_{i_{\\text{high\\_medium}}} \\quad \\text{for some } i \\in \\{2,4\\}$\n",
    "\n",
    "We have two models:\n",
    "\n",
    "1. **Unrestricted model:**\n",
    "   - $ \\text{lprice} = \\beta_0 + \\beta_1 \\cdot \\text{crime} + \\beta_2 \\cdot \\text{nox} + \\beta_3 \\cdot \\text{rooms} + \\beta_4 \\cdot \\text{proptax} + u $\n",
    "\n",
    "2. **Restricted model:**\n",
    "   - $ \\text{lprice} - \\beta_2 \\cdot \\text{nox} - \\beta_4 \\cdot \\text{proptax} = \\beta_0 + \\beta_1 \\cdot \\text{crime} + \\beta_3 \\cdot \\text{rooms} + u $\n",
    "   - where $ \\beta_2 $ and $ \\beta_4 $ are the results of the unrestricted model\n",
    "\n",
    "considering $\\alpha = 0.1$:"
   ]
  },
  {
   "cell_type": "code",
   "execution_count": 534,
   "metadata": {},
   "outputs": [
    {
     "name": "stdout",
     "output_type": "stream",
     "text": [
      "P-Value: 0.0\n",
      "F-Statistic: 6926.010531682444\n",
      "Reject the null hypothesis\n"
     ]
    }
   ],
   "source": [
    "# First step: estimate the coefficient for low levels of nox\n",
    "x_unrestricted = df[df['nox_level'] == 'low'][[\n",
    "    'crime', 'nox', 'rooms', 'proptax']]\n",
    "x_unrestricted = sm.add_constant(x_unrestricted)\n",
    "\n",
    "y_unrestricted = df[df['nox_level'] == 'low']['lprice']\n",
    "\n",
    "model = sm.OLS(y_unrestricted, x_unrestricted)\n",
    "results_unrestricted = model.fit()\n",
    "\n",
    "# Second step: estimate the restricted model for medium and high levels of nox\n",
    "x_medium_high = df[df['nox_level'] != 'low'][[\n",
    "    'crime', 'nox', 'rooms', 'proptax']]\n",
    "x_restricted = x_medium_high[['crime', 'rooms']]\n",
    "x_restricted = sm.add_constant(x_restricted)\n",
    "\n",
    "y_medium_high = df[df['nox_level'] != 'low']['lprice']\n",
    "y_restricted = y_medium_high - results_unrestricted.params['nox'] * x_medium_high['nox']\\\n",
    "    - results_unrestricted.params['proptax'] * x_medium_high['proptax']\n",
    "\n",
    "model_restricted = sm.OLS(y_restricted, x_restricted)\n",
    "results_restricted = model_restricted.fit()\n",
    "\n",
    "# Hypothesis test:\n",
    "SSR_unrestricted = results_unrestricted.ssr\n",
    "SSR_restricted = results_restricted.ssr\n",
    "\n",
    "k_unrestricted = x_unrestricted.shape[1] - 1\n",
    "k_restricted = x_restricted.shape[1] - 1\n",
    "\n",
    "q = k_unrestricted - k_restricted  # numerator degrees of freedom\n",
    "\n",
    "n = len(y)\n",
    "ddf = n - k_unrestricted - 1  # denominator degrees of freedom\n",
    "\n",
    "F_statistic = ((SSR_restricted - SSR_unrestricted) / q) / \\\n",
    "    (SSR_unrestricted / ddf)\n",
    "\n",
    "\n",
    "alpha = 0.10  # 10% significance level\n",
    "p_value = f.sf(F_statistic, q, ddf)\n",
    "\n",
    "print(f'P-Value: {p_value}')\n",
    "print(f'F-Statistic: {F_statistic}')\n",
    "\n",
    "if p_value < alpha:\n",
    "    print('Reject the null hypothesis')\n",
    "else:\n",
    "    print('Fail to reject the null hypothesis')"
   ]
  },
  {
   "cell_type": "markdown",
   "metadata": {},
   "source": [
    "#### **20. In the specification of question 10, test the hypothesis of no heteroskedasticity of linear form**"
   ]
  },
  {
   "cell_type": "code",
   "execution_count": 535,
   "metadata": {},
   "outputs": [
    {
     "name": "stdout",
     "output_type": "stream",
     "text": [
      "P-value =  8.329911128386772e-14\n",
      "F-statistic =  17.97638257131338\n",
      "We reject the null hypothesis at the 1% level.\n"
     ]
    }
   ],
   "source": [
    "X = df[['crime', 'nox', 'rooms', 'proptax']]\n",
    "\n",
    "X = sm.add_constant(X)\n",
    "\n",
    "u = results10.resid\n",
    "u2 = u**2\n",
    "y = u2\n",
    "model = sm.OLS(y, X)\n",
    "results = model.fit()\n",
    "\n",
    "f_statistic = results.fvalue\n",
    "\n",
    "alpha = 0.1\n",
    "k = len(results.params) - 1\n",
    "n = len(y)\n",
    "ddf = n - k - 1\n",
    "\n",
    "p_value = f.sf(f_statistic, dfn=k, dfd=ddf)\n",
    "\n",
    "print('P-value = ', p_value)\n",
    "print('F-statistic = ', f_statistic)\n",
    "\n",
    "if p_value < alpha:\n",
    "    print(\"We reject the null hypothesis at the 1% level.\")\n",
    "else:\n",
    "    print(\"We do not reject the null hypothesis at the 1% level.\")"
   ]
  },
  {
   "cell_type": "markdown",
   "metadata": {},
   "source": [
    "#### **21. In the specification of question 11, test the hypothesis of no heteroskedasticity of linear form**"
   ]
  },
  {
   "cell_type": "code",
   "execution_count": 536,
   "metadata": {},
   "outputs": [
    {
     "name": "stdout",
     "output_type": "stream",
     "text": [
      "P-value: 1.0205916389181349e-12\n",
      "F-statistic =  16.509872938658404\n",
      "We reject the null hypothesis at the 1% level.\n"
     ]
    }
   ],
   "source": [
    "X = df[['crime', 'lnox', 'rooms', 'lproptax']]\n",
    "\n",
    "X = sm.add_constant(X)\n",
    "\n",
    "u = results11.resid\n",
    "u2 = u**2\n",
    "y = u2\n",
    "model = sm.OLS(y, X)\n",
    "results = model.fit()\n",
    "\n",
    "f_statistic = results.fvalue\n",
    "\n",
    "alpha = 0.1\n",
    "k = len(results.params) - 1\n",
    "n = len(y)\n",
    "ddf = n - k - 1\n",
    "\n",
    "p_value = f.sf(f_statistic, dfn=k, dfd=ddf)\n",
    "\n",
    "print('P-value:', p_value)\n",
    "print('F-statistic = ', f_statistic)\n",
    "\n",
    "if p_value < alpha:\n",
    "    print(\"We reject the null hypothesis at the 1% level.\")\n",
    "else:\n",
    "    print(\"We do not reject the null hypothesis at the 1% level.\")"
   ]
  },
  {
   "cell_type": "markdown",
   "metadata": {},
   "source": [
    "#### **22. Comment on the differences between your results of questions 20, 21, 22.**"
   ]
  },
  {
   "cell_type": "markdown",
   "metadata": {},
   "source": [
    "In all three tests, the null hypothesis is rejected, indicating the presence of heteroskedasticity. However, an increase in the F-statistic is noticeable when comparing the tests. In the first test, the F-value is 6.799; in the second, F is 19.98; and in the third, F is 18.27. The increment in the F-value is noteworthy because as it increases, it moves further away from the critical value, which remains constant at 1.95 for all tests. Therefore, it can be concluded that as the F-value rises, we gain more certainty about the presence of heteroskedasticity."
   ]
  },
  {
   "cell_type": "code",
   "execution_count": 537,
   "metadata": {},
   "outputs": [
    {
     "name": "stdout",
     "output_type": "stream",
     "text": [
      "P-value =  2.467207343890163e-05\n",
      "F-statistic =  6.798893253091278\n",
      "We reject the null hypothesis at the 1%% level.\n"
     ]
    }
   ],
   "source": [
    "x_22 = df[['crime', 'nox', 'rooms', 'proptax']]\n",
    "x_22 = sm.add_constant(x_22)\n",
    "\n",
    "u = results9.resid\n",
    "u2 = u**2\n",
    "y_22 = u2\n",
    "model = sm.OLS(y_22, x_22)\n",
    "results22 = model.fit()\n",
    "\n",
    "f_statistic = results22.fvalue\n",
    "\n",
    "alpha = 0.1\n",
    "k = len(results22.params) - 1\n",
    "n = len(y_22)\n",
    "ddf = n - k - 1\n",
    "\n",
    "p_value = f.sf(f_statistic, dfn=k, dfd=ddf)\n",
    "\n",
    "print('P-value = ', p_value)\n",
    "print('F-statistic = ', f_statistic)\n",
    "\n",
    "if p_value < alpha:\n",
    "    print(\"We reject the null hypothesis at the 1%% level.\")\n",
    "else:\n",
    "    print(\"We do not reject the null hypothesis at the 1%% level.\")"
   ]
  },
  {
   "cell_type": "markdown",
   "metadata": {},
   "source": [
    "#### **23. Using the specification of question 9, identify the most significant variable causing heteroskedasticity using the student statistics and run a WLS regression with the identified variable as weight. Compare the standards errors with those of question 9. Comment on your results.**"
   ]
  },
  {
   "cell_type": "markdown",
   "metadata": {},
   "source": [
    "### Part 3 - Time Series Data\n",
    "Using the threecenturies_v2.3 datasets."
   ]
  },
  {
   "cell_type": "code",
   "execution_count": 538,
   "metadata": {},
   "outputs": [
    {
     "data": {
      "text/html": [
       "<div>\n",
       "<style scoped>\n",
       "    .dataframe tbody tr th:only-of-type {\n",
       "        vertical-align: middle;\n",
       "    }\n",
       "\n",
       "    .dataframe tbody tr th {\n",
       "        vertical-align: top;\n",
       "    }\n",
       "\n",
       "    .dataframe thead th {\n",
       "        text-align: right;\n",
       "    }\n",
       "</style>\n",
       "<table border=\"1\" class=\"dataframe\">\n",
       "  <thead>\n",
       "    <tr style=\"text-align: right;\">\n",
       "      <th></th>\n",
       "      <th>Year</th>\n",
       "      <th>Real GDP</th>\n",
       "      <th>Unemployment Rate</th>\n",
       "      <th>Inflation</th>\n",
       "    </tr>\n",
       "  </thead>\n",
       "  <tbody>\n",
       "    <tr>\n",
       "      <th>0</th>\n",
       "      <td>1900</td>\n",
       "      <td>181160.264436</td>\n",
       "      <td>3.679865</td>\n",
       "      <td>4.058273</td>\n",
       "    </tr>\n",
       "    <tr>\n",
       "      <th>1</th>\n",
       "      <td>1901</td>\n",
       "      <td>184974.529384</td>\n",
       "      <td>4.877351</td>\n",
       "      <td>-0.3</td>\n",
       "    </tr>\n",
       "    <tr>\n",
       "      <th>2</th>\n",
       "      <td>1902</td>\n",
       "      <td>187756.550527</td>\n",
       "      <td>5.145694</td>\n",
       "      <td>0</td>\n",
       "    </tr>\n",
       "    <tr>\n",
       "      <th>3</th>\n",
       "      <td>1903</td>\n",
       "      <td>186015.76815</td>\n",
       "      <td>5.603507</td>\n",
       "      <td>1.10331</td>\n",
       "    </tr>\n",
       "    <tr>\n",
       "      <th>4</th>\n",
       "      <td>1904</td>\n",
       "      <td>188155.559259</td>\n",
       "      <td>6.914821</td>\n",
       "      <td>-0.396825</td>\n",
       "    </tr>\n",
       "    <tr>\n",
       "      <th>...</th>\n",
       "      <td>...</td>\n",
       "      <td>...</td>\n",
       "      <td>...</td>\n",
       "      <td>...</td>\n",
       "    </tr>\n",
       "    <tr>\n",
       "      <th>96</th>\n",
       "      <td>1996</td>\n",
       "      <td>1243709</td>\n",
       "      <td>8.097052</td>\n",
       "      <td>2.400308</td>\n",
       "    </tr>\n",
       "    <tr>\n",
       "      <th>97</th>\n",
       "      <td>1997</td>\n",
       "      <td>1282602</td>\n",
       "      <td>6.972014</td>\n",
       "      <td>1.824606</td>\n",
       "    </tr>\n",
       "    <tr>\n",
       "      <th>98</th>\n",
       "      <td>1998</td>\n",
       "      <td>1323527</td>\n",
       "      <td>6.255467</td>\n",
       "      <td>1.557398</td>\n",
       "    </tr>\n",
       "    <tr>\n",
       "      <th>99</th>\n",
       "      <td>1999</td>\n",
       "      <td>1366983</td>\n",
       "      <td>5.976813</td>\n",
       "      <td>1.32871</td>\n",
       "    </tr>\n",
       "    <tr>\n",
       "      <th>100</th>\n",
       "      <td>2000</td>\n",
       "      <td>1418176</td>\n",
       "      <td>5.459049</td>\n",
       "      <td>0.796456</td>\n",
       "    </tr>\n",
       "  </tbody>\n",
       "</table>\n",
       "<p>101 rows × 4 columns</p>\n",
       "</div>"
      ],
      "text/plain": [
       "     Year       Real GDP Unemployment Rate Inflation\n",
       "0    1900  181160.264436          3.679865  4.058273\n",
       "1    1901  184974.529384          4.877351      -0.3\n",
       "2    1902  187756.550527          5.145694         0\n",
       "3    1903   186015.76815          5.603507   1.10331\n",
       "4    1904  188155.559259          6.914821 -0.396825\n",
       "..    ...            ...               ...       ...\n",
       "96   1996        1243709          8.097052  2.400308\n",
       "97   1997        1282602          6.972014  1.824606\n",
       "98   1998        1323527          6.255467  1.557398\n",
       "99   1999        1366983          5.976813   1.32871\n",
       "100  2000        1418176          5.459049  0.796456\n",
       "\n",
       "[101 rows x 4 columns]"
      ]
     },
     "execution_count": 538,
     "metadata": {},
     "output_type": "execute_result"
    }
   ],
   "source": [
    "centuriesDf = pd.read_excel('threecenturies.xlsx', sheet_name='A1. Headline series', header=3)\n",
    "centuriesDf = centuriesDf.drop(centuriesDf.index[:3]).reset_index(drop=True)\n",
    "centuriesDf = centuriesDf[['Description', 'Real GDP at market prices', 'Unemployment rate', 'Consumer price inflation']]\n",
    "centuriesDf.columns = ['Year', 'Real GDP', 'Unemployment Rate', 'Inflation']\n",
    "centuriesDf = centuriesDf[(centuriesDf['Year'] >= 1900) & (centuriesDf['Year'] <= 2000)].reset_index(drop=True)\n",
    "centuriesDf"
   ]
  },
  {
   "cell_type": "markdown",
   "metadata": {},
   "source": [
    "#### **24. Define strict and weak stationarity.**"
   ]
  },
  {
   "cell_type": "markdown",
   "metadata": {},
   "source": [
    "#### **25. Explain ergodicity and state the ergodic theorem. Illustrate with an example.**"
   ]
  },
  {
   "cell_type": "markdown",
   "metadata": {},
   "source": [
    "#### **26. Why do we need both stationarity and ergodicity?**"
   ]
  },
  {
   "cell_type": "markdown",
   "metadata": {},
   "source": [
    "#### **27. Explain “spurious regression”.**"
   ]
  },
  {
   "cell_type": "markdown",
   "metadata": {},
   "source": [
    "#### **28. Make all time series stationary by computing the difference between the original variable and a moving average of order 2x10. Give the formula for the exact weights.**"
   ]
  },
  {
   "cell_type": "code",
   "execution_count": 539,
   "metadata": {},
   "outputs": [
    {
     "data": {
      "text/html": [
       "<div>\n",
       "<style scoped>\n",
       "    .dataframe tbody tr th:only-of-type {\n",
       "        vertical-align: middle;\n",
       "    }\n",
       "\n",
       "    .dataframe tbody tr th {\n",
       "        vertical-align: top;\n",
       "    }\n",
       "\n",
       "    .dataframe thead th {\n",
       "        text-align: right;\n",
       "    }\n",
       "</style>\n",
       "<table border=\"1\" class=\"dataframe\">\n",
       "  <thead>\n",
       "    <tr style=\"text-align: right;\">\n",
       "      <th></th>\n",
       "      <th>Year</th>\n",
       "      <th>Real GDP Stationary</th>\n",
       "      <th>Unemployment Rate Stationary</th>\n",
       "      <th>Inflation Stationary</th>\n",
       "    </tr>\n",
       "  </thead>\n",
       "  <tbody>\n",
       "    <tr>\n",
       "      <th>10</th>\n",
       "      <td>1910</td>\n",
       "      <td>-5157.680634</td>\n",
       "      <td>1.612217</td>\n",
       "      <td>-3.086901</td>\n",
       "    </tr>\n",
       "    <tr>\n",
       "      <th>11</th>\n",
       "      <td>1911</td>\n",
       "      <td>-18.483568</td>\n",
       "      <td>0.651997</td>\n",
       "      <td>-5.490429</td>\n",
       "    </tr>\n",
       "    <tr>\n",
       "      <th>12</th>\n",
       "      <td>1912</td>\n",
       "      <td>2719.669370</td>\n",
       "      <td>-0.436035</td>\n",
       "      <td>-2.536247</td>\n",
       "    </tr>\n",
       "    <tr>\n",
       "      <th>13</th>\n",
       "      <td>1913</td>\n",
       "      <td>10797.984003</td>\n",
       "      <td>-1.008674</td>\n",
       "      <td>-4.018009</td>\n",
       "    </tr>\n",
       "    <tr>\n",
       "      <th>14</th>\n",
       "      <td>1914</td>\n",
       "      <td>14098.371607</td>\n",
       "      <td>-1.592062</td>\n",
       "      <td>-1.757828</td>\n",
       "    </tr>\n",
       "    <tr>\n",
       "      <th>...</th>\n",
       "      <td>...</td>\n",
       "      <td>...</td>\n",
       "      <td>...</td>\n",
       "      <td>...</td>\n",
       "    </tr>\n",
       "    <tr>\n",
       "      <th>87</th>\n",
       "      <td>1987</td>\n",
       "      <td>22757.350000</td>\n",
       "      <td>1.520039</td>\n",
       "      <td>-3.135754</td>\n",
       "    </tr>\n",
       "    <tr>\n",
       "      <th>88</th>\n",
       "      <td>1988</td>\n",
       "      <td>57504.700000</td>\n",
       "      <td>-0.407737</td>\n",
       "      <td>-1.925612</td>\n",
       "    </tr>\n",
       "    <tr>\n",
       "      <th>89</th>\n",
       "      <td>1989</td>\n",
       "      <td>60572.900000</td>\n",
       "      <td>-1.798289</td>\n",
       "      <td>-0.151469</td>\n",
       "    </tr>\n",
       "    <tr>\n",
       "      <th>90</th>\n",
       "      <td>1990</td>\n",
       "      <td>42989.400000</td>\n",
       "      <td>-1.951712</td>\n",
       "      <td>2.085806</td>\n",
       "    </tr>\n",
       "    <tr>\n",
       "      <th>91</th>\n",
       "      <td>1991</td>\n",
       "      <td>1475.700000</td>\n",
       "      <td>-0.164321</td>\n",
       "      <td>3.363665</td>\n",
       "    </tr>\n",
       "  </tbody>\n",
       "</table>\n",
       "<p>82 rows × 4 columns</p>\n",
       "</div>"
      ],
      "text/plain": [
       "    Year  Real GDP Stationary  Unemployment Rate Stationary  \\\n",
       "10  1910         -5157.680634                      1.612217   \n",
       "11  1911           -18.483568                      0.651997   \n",
       "12  1912          2719.669370                     -0.436035   \n",
       "13  1913         10797.984003                     -1.008674   \n",
       "14  1914         14098.371607                     -1.592062   \n",
       "..   ...                  ...                           ...   \n",
       "87  1987         22757.350000                      1.520039   \n",
       "88  1988         57504.700000                     -0.407737   \n",
       "89  1989         60572.900000                     -1.798289   \n",
       "90  1990         42989.400000                     -1.951712   \n",
       "91  1991          1475.700000                     -0.164321   \n",
       "\n",
       "    Inflation Stationary  \n",
       "10             -3.086901  \n",
       "11             -5.490429  \n",
       "12             -2.536247  \n",
       "13             -4.018009  \n",
       "14             -1.757828  \n",
       "..                   ...  \n",
       "87             -3.135754  \n",
       "88             -1.925612  \n",
       "89             -0.151469  \n",
       "90              2.085806  \n",
       "91              3.363665  \n",
       "\n",
       "[82 rows x 4 columns]"
      ]
     },
     "execution_count": 539,
     "metadata": {},
     "output_type": "execute_result"
    }
   ],
   "source": [
    "# Compute moving averages with a window size of 20\n",
    "window_size = 20\n",
    "centuriesDf_copy = centuriesDf.copy()\n",
    "centuriesDf_copy['Real GDP Stationary'] = (centuriesDf_copy['Real GDP'].astype(float) - centuriesDf_copy['Real GDP'].astype(float).rolling(window=window_size, center=True).mean())\n",
    "centuriesDf_copy['Unemployment Rate Stationary'] = (centuriesDf_copy['Unemployment Rate'].astype(float) - centuriesDf['Unemployment Rate'].astype(float).rolling(window=window_size, center=True).mean())\n",
    "centuriesDf_copy['Inflation Stationary'] = (centuriesDf_copy['Inflation'].astype(float) - centuriesDf_copy['Inflation'].astype(float).rolling(window=window_size, center=True).mean())\n",
    "\n",
    "# Drop rows with NaN values (resulting from rolling averages)\n",
    "stationary_data = centuriesDf_copy[['Year', 'Real GDP Stationary', 'Unemployment Rate Stationary', 'Inflation Stationary']].dropna()\n",
    "stationary_data\n"
   ]
  },
  {
   "cell_type": "code",
   "execution_count": 540,
   "metadata": {},
   "outputs": [
    {
     "data": {
      "text/html": [
       "<div>\n",
       "<style scoped>\n",
       "    .dataframe tbody tr th:only-of-type {\n",
       "        vertical-align: middle;\n",
       "    }\n",
       "\n",
       "    .dataframe tbody tr th {\n",
       "        vertical-align: top;\n",
       "    }\n",
       "\n",
       "    .dataframe thead th {\n",
       "        text-align: right;\n",
       "    }\n",
       "</style>\n",
       "<table border=\"1\" class=\"dataframe\">\n",
       "  <thead>\n",
       "    <tr style=\"text-align: right;\">\n",
       "      <th></th>\n",
       "      <th>Year</th>\n",
       "      <th>Real GDP</th>\n",
       "      <th>Unemployment Rate</th>\n",
       "      <th>Inflation</th>\n",
       "      <th>Real GDP Stationary</th>\n",
       "      <th>Unemployment Rate Stationary</th>\n",
       "      <th>Inflation Stationary</th>\n",
       "      <th>Real GDP MA</th>\n",
       "      <th>Unemployment Rate MA</th>\n",
       "      <th>Inflation MA</th>\n",
       "    </tr>\n",
       "  </thead>\n",
       "  <tbody>\n",
       "    <tr>\n",
       "      <th>0</th>\n",
       "      <td>1900</td>\n",
       "      <td>181160.264436</td>\n",
       "      <td>3.679865</td>\n",
       "      <td>4.058273</td>\n",
       "      <td>NaN</td>\n",
       "      <td>NaN</td>\n",
       "      <td>NaN</td>\n",
       "      <td>NaN</td>\n",
       "      <td>NaN</td>\n",
       "      <td>NaN</td>\n",
       "    </tr>\n",
       "    <tr>\n",
       "      <th>1</th>\n",
       "      <td>1901</td>\n",
       "      <td>184974.529384</td>\n",
       "      <td>4.877351</td>\n",
       "      <td>-0.3</td>\n",
       "      <td>NaN</td>\n",
       "      <td>NaN</td>\n",
       "      <td>NaN</td>\n",
       "      <td>NaN</td>\n",
       "      <td>NaN</td>\n",
       "      <td>NaN</td>\n",
       "    </tr>\n",
       "    <tr>\n",
       "      <th>2</th>\n",
       "      <td>1902</td>\n",
       "      <td>187756.550527</td>\n",
       "      <td>5.145694</td>\n",
       "      <td>0</td>\n",
       "      <td>NaN</td>\n",
       "      <td>NaN</td>\n",
       "      <td>NaN</td>\n",
       "      <td>NaN</td>\n",
       "      <td>NaN</td>\n",
       "      <td>NaN</td>\n",
       "    </tr>\n",
       "    <tr>\n",
       "      <th>3</th>\n",
       "      <td>1903</td>\n",
       "      <td>186015.76815</td>\n",
       "      <td>5.603507</td>\n",
       "      <td>1.10331</td>\n",
       "      <td>NaN</td>\n",
       "      <td>NaN</td>\n",
       "      <td>NaN</td>\n",
       "      <td>NaN</td>\n",
       "      <td>NaN</td>\n",
       "      <td>NaN</td>\n",
       "    </tr>\n",
       "    <tr>\n",
       "      <th>4</th>\n",
       "      <td>1904</td>\n",
       "      <td>188155.559259</td>\n",
       "      <td>6.914821</td>\n",
       "      <td>-0.396825</td>\n",
       "      <td>NaN</td>\n",
       "      <td>NaN</td>\n",
       "      <td>NaN</td>\n",
       "      <td>NaN</td>\n",
       "      <td>NaN</td>\n",
       "      <td>NaN</td>\n",
       "    </tr>\n",
       "    <tr>\n",
       "      <th>...</th>\n",
       "      <td>...</td>\n",
       "      <td>...</td>\n",
       "      <td>...</td>\n",
       "      <td>...</td>\n",
       "      <td>...</td>\n",
       "      <td>...</td>\n",
       "      <td>...</td>\n",
       "      <td>...</td>\n",
       "      <td>...</td>\n",
       "      <td>...</td>\n",
       "    </tr>\n",
       "    <tr>\n",
       "      <th>96</th>\n",
       "      <td>1996</td>\n",
       "      <td>1243709</td>\n",
       "      <td>8.097052</td>\n",
       "      <td>2.400308</td>\n",
       "      <td>NaN</td>\n",
       "      <td>NaN</td>\n",
       "      <td>NaN</td>\n",
       "      <td>253012.571429</td>\n",
       "      <td>-0.648767</td>\n",
       "      <td>-4.384041</td>\n",
       "    </tr>\n",
       "    <tr>\n",
       "      <th>97</th>\n",
       "      <td>1997</td>\n",
       "      <td>1282602</td>\n",
       "      <td>6.972014</td>\n",
       "      <td>1.824606</td>\n",
       "      <td>NaN</td>\n",
       "      <td>NaN</td>\n",
       "      <td>NaN</td>\n",
       "      <td>267631.761905</td>\n",
       "      <td>-1.848808</td>\n",
       "      <td>-4.301043</td>\n",
       "    </tr>\n",
       "    <tr>\n",
       "      <th>98</th>\n",
       "      <td>1998</td>\n",
       "      <td>1323527</td>\n",
       "      <td>6.255467</td>\n",
       "      <td>1.557398</td>\n",
       "      <td>NaN</td>\n",
       "      <td>NaN</td>\n",
       "      <td>NaN</td>\n",
       "      <td>283240.666667</td>\n",
       "      <td>-2.596862</td>\n",
       "      <td>-3.930865</td>\n",
       "    </tr>\n",
       "    <tr>\n",
       "      <th>99</th>\n",
       "      <td>1999</td>\n",
       "      <td>1366983</td>\n",
       "      <td>5.976813</td>\n",
       "      <td>1.32871</td>\n",
       "      <td>NaN</td>\n",
       "      <td>NaN</td>\n",
       "      <td>NaN</td>\n",
       "      <td>300893.238095</td>\n",
       "      <td>-2.897972</td>\n",
       "      <td>-3.867004</td>\n",
       "    </tr>\n",
       "    <tr>\n",
       "      <th>100</th>\n",
       "      <td>2000</td>\n",
       "      <td>1418176</td>\n",
       "      <td>5.459049</td>\n",
       "      <td>0.796456</td>\n",
       "      <td>NaN</td>\n",
       "      <td>NaN</td>\n",
       "      <td>NaN</td>\n",
       "      <td>325312.761905</td>\n",
       "      <td>-3.419595</td>\n",
       "      <td>-3.895639</td>\n",
       "    </tr>\n",
       "  </tbody>\n",
       "</table>\n",
       "<p>101 rows × 10 columns</p>\n",
       "</div>"
      ],
      "text/plain": [
       "     Year       Real GDP Unemployment Rate Inflation  Real GDP Stationary  \\\n",
       "0    1900  181160.264436          3.679865  4.058273                  NaN   \n",
       "1    1901  184974.529384          4.877351      -0.3                  NaN   \n",
       "2    1902  187756.550527          5.145694         0                  NaN   \n",
       "3    1903   186015.76815          5.603507   1.10331                  NaN   \n",
       "4    1904  188155.559259          6.914821 -0.396825                  NaN   \n",
       "..    ...            ...               ...       ...                  ...   \n",
       "96   1996        1243709          8.097052  2.400308                  NaN   \n",
       "97   1997        1282602          6.972014  1.824606                  NaN   \n",
       "98   1998        1323527          6.255467  1.557398                  NaN   \n",
       "99   1999        1366983          5.976813   1.32871                  NaN   \n",
       "100  2000        1418176          5.459049  0.796456                  NaN   \n",
       "\n",
       "     Unemployment Rate Stationary  Inflation Stationary    Real GDP MA  \\\n",
       "0                             NaN                   NaN            NaN   \n",
       "1                             NaN                   NaN            NaN   \n",
       "2                             NaN                   NaN            NaN   \n",
       "3                             NaN                   NaN            NaN   \n",
       "4                             NaN                   NaN            NaN   \n",
       "..                            ...                   ...            ...   \n",
       "96                            NaN                   NaN  253012.571429   \n",
       "97                            NaN                   NaN  267631.761905   \n",
       "98                            NaN                   NaN  283240.666667   \n",
       "99                            NaN                   NaN  300893.238095   \n",
       "100                           NaN                   NaN  325312.761905   \n",
       "\n",
       "    Unemployment Rate MA Inflation MA  \n",
       "0                    NaN          NaN  \n",
       "1                    NaN          NaN  \n",
       "2                    NaN          NaN  \n",
       "3                    NaN          NaN  \n",
       "4                    NaN          NaN  \n",
       "..                   ...          ...  \n",
       "96             -0.648767    -4.384041  \n",
       "97             -1.848808    -4.301043  \n",
       "98             -2.596862    -3.930865  \n",
       "99             -2.897972    -3.867004  \n",
       "100            -3.419595    -3.895639  \n",
       "\n",
       "[101 rows x 10 columns]"
      ]
     },
     "execution_count": 540,
     "metadata": {},
     "output_type": "execute_result"
    }
   ],
   "source": [
    "centuriesDf_copy['Real GDP MA'] = centuriesDf_copy['Real GDP'] - centuriesDf_copy['Real GDP'].rolling(window=21).mean()\n",
    "centuriesDf_copy['Unemployment Rate MA'] = centuriesDf_copy['Unemployment Rate'] - centuriesDf_copy['Unemployment Rate'].rolling(window=21).mean()\n",
    "centuriesDf_copy['Inflation MA'] = centuriesDf_copy['Inflation'] - centuriesDf_copy['Inflation'].rolling(window=21).mean()\n",
    "centuriesDf_copy"
   ]
  },
  {
   "cell_type": "markdown",
   "metadata": {},
   "source": [
    "#### **29. Using the original dataset, test the unit root hypothesis for all variables**"
   ]
  },
  {
   "cell_type": "code",
   "execution_count": 541,
   "metadata": {},
   "outputs": [],
   "source": [
    "# ADF test \n",
    "results = []\n",
    "def adf_test(series, variable_name):\n",
    "    result = adfuller(series, maxlag=0, regression='c', autolag=None)\n",
    "    results.append({\n",
    "        'Variable': variable_name, \n",
    "        'ADF Statistic': result[0], \n",
    "        'p-value': result[1], \n",
    "        'Reject Null Hypothesis': result[1] <= 0.05,\n",
    "        '# of Observations': result[3]})\n",
    "\n",
    "# def adf_test(series, variable_name, results=None):\n",
    "#     result = adfuller(series, autolag='AIC')\n",
    "\n",
    "#     # Initialize results list if not provided\n",
    "#     if results is None:\n",
    "#         results = []\n",
    "\n",
    "#     # Append the results to the list\n",
    "#     results.append({\n",
    "#         'Variable': variable_name, \n",
    "#         'ADF Statistic': result[0], \n",
    "#         'p-value': result[1], \n",
    "#         'Reject Null Hypothesis': result[1] <= 0.05,\n",
    "#         '# of Observations': result[3]\n",
    "#     })\n",
    "\n",
    "#     # Print the result\n",
    "#     # print(f\"Results of ADF Test for {variable_name}:\")\n",
    "#     # print(f\"ADF Statistic: {result[0]:.4f}\")\n",
    "#     # print(f\"p-value: {result[1]:.4f}\")\n",
    "#     # print(f\"Critical Values: {result[4]}\")\n",
    "#     # print(f\"Reject Null Hypothesis: {'Yes' if result[1] <= 0.05 else 'No'}\\n\")\n",
    "\n",
    "#     return results\n"
   ]
  },
  {
   "cell_type": "code",
   "execution_count": 542,
   "metadata": {},
   "outputs": [
    {
     "data": {
      "text/html": [
       "<div>\n",
       "<style scoped>\n",
       "    .dataframe tbody tr th:only-of-type {\n",
       "        vertical-align: middle;\n",
       "    }\n",
       "\n",
       "    .dataframe tbody tr th {\n",
       "        vertical-align: top;\n",
       "    }\n",
       "\n",
       "    .dataframe thead th {\n",
       "        text-align: right;\n",
       "    }\n",
       "</style>\n",
       "<table border=\"1\" class=\"dataframe\">\n",
       "  <thead>\n",
       "    <tr style=\"text-align: right;\">\n",
       "      <th></th>\n",
       "      <th>Variable</th>\n",
       "      <th>ADF Statistic</th>\n",
       "      <th>p-value</th>\n",
       "      <th>Reject Null Hypothesis</th>\n",
       "      <th># of Observations</th>\n",
       "    </tr>\n",
       "  </thead>\n",
       "  <tbody>\n",
       "    <tr>\n",
       "      <th>0</th>\n",
       "      <td>Real GDP</td>\n",
       "      <td>7.040543</td>\n",
       "      <td>1.000000</td>\n",
       "      <td>False</td>\n",
       "      <td>100</td>\n",
       "    </tr>\n",
       "    <tr>\n",
       "      <th>1</th>\n",
       "      <td>Unemployment Rate</td>\n",
       "      <td>-2.044839</td>\n",
       "      <td>0.267265</td>\n",
       "      <td>False</td>\n",
       "      <td>100</td>\n",
       "    </tr>\n",
       "    <tr>\n",
       "      <th>2</th>\n",
       "      <td>Inflation</td>\n",
       "      <td>-3.669447</td>\n",
       "      <td>0.004564</td>\n",
       "      <td>True</td>\n",
       "      <td>100</td>\n",
       "    </tr>\n",
       "  </tbody>\n",
       "</table>\n",
       "</div>"
      ],
      "text/plain": [
       "            Variable  ADF Statistic   p-value  Reject Null Hypothesis  \\\n",
       "0           Real GDP       7.040543  1.000000                   False   \n",
       "1  Unemployment Rate      -2.044839  0.267265                   False   \n",
       "2          Inflation      -3.669447  0.004564                    True   \n",
       "\n",
       "   # of Observations  \n",
       "0                100  \n",
       "1                100  \n",
       "2                100  "
      ]
     },
     "execution_count": 542,
     "metadata": {},
     "output_type": "execute_result"
    }
   ],
   "source": [
    "# running the ADF test\n",
    "adf_test(centuriesDf['Real GDP'].dropna(), 'Real GDP')\n",
    "adf_test(centuriesDf['Unemployment Rate'].dropna(), 'Unemployment Rate')\n",
    "adf_test(centuriesDf['Inflation'].dropna(), 'Inflation')\n",
    "results_table = pd.DataFrame(results)\n",
    "results_table\n",
    "\n",
    "# List to store all results\n",
    "# adf_results = []\n",
    "\n",
    "# # Perform ADF tests on differenced variables\n",
    "# adf_results = adf_test(centuriesDf['Real GDP'], 'Real GDP', adf_results)\n",
    "# adf_results = adf_test(centuriesDf['Unemployment Rate'], 'Unemployment Rate', adf_results)\n",
    "# adf_results = adf_test(centuriesDf['Inflation'], 'Inflation', adf_results)\n",
    "\n",
    "# # Convert the results to a DataFrame for easy analysis\n",
    "# adf_results_df = pd.DataFrame(adf_results)\n",
    "# adf_results_df"
   ]
  },
  {
   "cell_type": "markdown",
   "metadata": {},
   "source": [
    "#### **30. Transform all variables so that they are stationary using either your answers to questions 28 or to question 29.**"
   ]
  },
  {
   "cell_type": "code",
   "execution_count": 543,
   "metadata": {},
   "outputs": [
    {
     "data": {
      "text/html": [
       "<div>\n",
       "<style scoped>\n",
       "    .dataframe tbody tr th:only-of-type {\n",
       "        vertical-align: middle;\n",
       "    }\n",
       "\n",
       "    .dataframe tbody tr th {\n",
       "        vertical-align: top;\n",
       "    }\n",
       "\n",
       "    .dataframe thead th {\n",
       "        text-align: right;\n",
       "    }\n",
       "</style>\n",
       "<table border=\"1\" class=\"dataframe\">\n",
       "  <thead>\n",
       "    <tr style=\"text-align: right;\">\n",
       "      <th></th>\n",
       "      <th>Variable</th>\n",
       "      <th>ADF Statistic</th>\n",
       "      <th>p-value</th>\n",
       "      <th>Reject Null Hypothesis</th>\n",
       "    </tr>\n",
       "  </thead>\n",
       "  <tbody>\n",
       "    <tr>\n",
       "      <th>0</th>\n",
       "      <td>Real GDP</td>\n",
       "      <td>-4.612330</td>\n",
       "      <td>1.225763e-04</td>\n",
       "      <td>True</td>\n",
       "    </tr>\n",
       "    <tr>\n",
       "      <th>1</th>\n",
       "      <td>Unemployment Rate</td>\n",
       "      <td>-8.563655</td>\n",
       "      <td>8.561100e-14</td>\n",
       "      <td>True</td>\n",
       "    </tr>\n",
       "    <tr>\n",
       "      <th>2</th>\n",
       "      <td>Inflation</td>\n",
       "      <td>-9.690380</td>\n",
       "      <td>1.140695e-16</td>\n",
       "      <td>True</td>\n",
       "    </tr>\n",
       "  </tbody>\n",
       "</table>\n",
       "</div>"
      ],
      "text/plain": [
       "            Variable  ADF Statistic       p-value  Reject Null Hypothesis\n",
       "0           Real GDP      -4.612330  1.225763e-04                    True\n",
       "1  Unemployment Rate      -8.563655  8.561100e-14                    True\n",
       "2          Inflation      -9.690380  1.140695e-16                    True"
      ]
     },
     "execution_count": 543,
     "metadata": {},
     "output_type": "execute_result"
    }
   ],
   "source": [
    "results_list = []\n",
    "stationary_df = centuriesDf.copy().diff().dropna()\n",
    "for column in stationary_df.columns[1:]:\n",
    "    variable = column\n",
    "    adf_result = adfuller(stationary_df[column], maxlag=0, regression='c', autolag=None)\n",
    "    adf_statistic = adf_result[0]\n",
    "    p_value = adf_result[1]\n",
    "    reject_null_hypothesis = p_value < 0.01\n",
    "    results_list.append({\n",
    "        'Variable': variable,\n",
    "        'ADF Statistic': adf_statistic,\n",
    "        'p-value': p_value,\n",
    "        'Reject Null Hypothesis': reject_null_hypothesis})\n",
    "results_table = pd.DataFrame(results_list)\n",
    "results_table"
   ]
  },
  {
   "cell_type": "markdown",
   "metadata": {},
   "source": [
    "#### **31. Explain the difference between ACF and PACF.**"
   ]
  },
  {
   "cell_type": "markdown",
   "metadata": {},
   "source": [
    "ACF (Autocorrelation Function): The ACF measures the correlation between a time series and its own lagged values. It quantifies how the current value of the series is related to its past values at various lags. The ACF is calculated for all possible lags and provides a complete picture of the correlation structure of the time series.  \n",
    "PACF (Partial Autocorrelation Function): The PACF measures the correlation between a time series and its lagged values, but it does so while controlling for the effects of intermediate lags. In other words, the PACF at lag $k$ represents the correlation between the series and its $k$-th lag after removing the influence of all shorter lags (1 through $k−1$)."
   ]
  },
  {
   "cell_type": "markdown",
   "metadata": {},
   "source": [
    "#### **32. Plot and comment on the ACF and PACF of all variables.**"
   ]
  },
  {
   "cell_type": "code",
   "execution_count": null,
   "metadata": {},
   "outputs": [
    {
     "data": {
      "text/html": [
       "<div>\n",
       "<style scoped>\n",
       "    .dataframe tbody tr th:only-of-type {\n",
       "        vertical-align: middle;\n",
       "    }\n",
       "\n",
       "    .dataframe tbody tr th {\n",
       "        vertical-align: top;\n",
       "    }\n",
       "\n",
       "    .dataframe thead th {\n",
       "        text-align: right;\n",
       "    }\n",
       "</style>\n",
       "<table border=\"1\" class=\"dataframe\">\n",
       "  <thead>\n",
       "    <tr style=\"text-align: right;\">\n",
       "      <th></th>\n",
       "      <th>Year</th>\n",
       "      <th>Real GDP</th>\n",
       "      <th>Unemployment Rate</th>\n",
       "      <th>Inflation</th>\n",
       "    </tr>\n",
       "  </thead>\n",
       "  <tbody>\n",
       "    <tr>\n",
       "      <th>1</th>\n",
       "      <td>1901</td>\n",
       "      <td>3814.264947</td>\n",
       "      <td>1.197486</td>\n",
       "      <td>-4.358273</td>\n",
       "    </tr>\n",
       "    <tr>\n",
       "      <th>2</th>\n",
       "      <td>1902</td>\n",
       "      <td>2782.021143</td>\n",
       "      <td>0.268343</td>\n",
       "      <td>0.3</td>\n",
       "    </tr>\n",
       "    <tr>\n",
       "      <th>3</th>\n",
       "      <td>1903</td>\n",
       "      <td>-1740.782376</td>\n",
       "      <td>0.457813</td>\n",
       "      <td>1.10331</td>\n",
       "    </tr>\n",
       "    <tr>\n",
       "      <th>4</th>\n",
       "      <td>1904</td>\n",
       "      <td>2139.791108</td>\n",
       "      <td>1.311314</td>\n",
       "      <td>-1.500135</td>\n",
       "    </tr>\n",
       "    <tr>\n",
       "      <th>5</th>\n",
       "      <td>1905</td>\n",
       "      <td>5510.175237</td>\n",
       "      <td>-0.431623</td>\n",
       "      <td>0.795232</td>\n",
       "    </tr>\n",
       "    <tr>\n",
       "      <th>...</th>\n",
       "      <td>...</td>\n",
       "      <td>...</td>\n",
       "      <td>...</td>\n",
       "      <td>...</td>\n",
       "    </tr>\n",
       "    <tr>\n",
       "      <th>96</th>\n",
       "      <td>1996</td>\n",
       "      <td>30911</td>\n",
       "      <td>-0.524736</td>\n",
       "      <td>-0.256144</td>\n",
       "    </tr>\n",
       "    <tr>\n",
       "      <th>97</th>\n",
       "      <td>1997</td>\n",
       "      <td>38893</td>\n",
       "      <td>-1.125038</td>\n",
       "      <td>-0.575702</td>\n",
       "    </tr>\n",
       "    <tr>\n",
       "      <th>98</th>\n",
       "      <td>1998</td>\n",
       "      <td>40925</td>\n",
       "      <td>-0.716547</td>\n",
       "      <td>-0.267209</td>\n",
       "    </tr>\n",
       "    <tr>\n",
       "      <th>99</th>\n",
       "      <td>1999</td>\n",
       "      <td>43456</td>\n",
       "      <td>-0.278654</td>\n",
       "      <td>-0.228687</td>\n",
       "    </tr>\n",
       "    <tr>\n",
       "      <th>100</th>\n",
       "      <td>2000</td>\n",
       "      <td>51193</td>\n",
       "      <td>-0.517764</td>\n",
       "      <td>-0.532254</td>\n",
       "    </tr>\n",
       "  </tbody>\n",
       "</table>\n",
       "<p>100 rows × 4 columns</p>\n",
       "</div>"
      ],
      "text/plain": [
       "     Year     Real GDP Unemployment Rate Inflation\n",
       "1    1901  3814.264947          1.197486 -4.358273\n",
       "2    1902  2782.021143          0.268343       0.3\n",
       "3    1903 -1740.782376          0.457813   1.10331\n",
       "4    1904  2139.791108          1.311314 -1.500135\n",
       "5    1905  5510.175237         -0.431623  0.795232\n",
       "..    ...          ...               ...       ...\n",
       "96   1996        30911         -0.524736 -0.256144\n",
       "97   1997        38893         -1.125038 -0.575702\n",
       "98   1998        40925         -0.716547 -0.267209\n",
       "99   1999        43456         -0.278654 -0.228687\n",
       "100  2000        51193         -0.517764 -0.532254\n",
       "\n",
       "[100 rows x 4 columns]"
      ]
     },
     "execution_count": 544,
     "metadata": {},
     "output_type": "execute_result"
    }
   ],
   "source": [
    "centuriesDf_diff = centuriesDf.copy()\n",
    "centuriesDf_diff['Real GDP'] = centuriesDf['Real GDP'].diff().dropna()\n",
    "centuriesDf_diff['Unemployment Rate'] = centuriesDf['Unemployment Rate'].diff().dropna()\n",
    "centuriesDf_diff['Inflation'] = centuriesDf['Inflation'].diff().dropna()\n",
    "centuriesDf_diff.dropna(inplace=True)\n",
    "centuriesDf_diff"
   ]
  },
  {
   "cell_type": "code",
   "execution_count": 545,
   "metadata": {},
   "outputs": [
    {
     "data": {
      "image/png": "[encoded data removed]",
      "text/plain": [
       "<Figure size 1200x400 with 2 Axes>"
      ]
     },
     "metadata": {},
     "output_type": "display_data"
    }
   ],
   "source": [
    "fig, (ax1, ax2) = plt.subplots(1, 2, figsize=(12, 4), sharey=True)\n",
    "plot_acf(centuriesDf_diff['Real GDP'], ax=ax1, title='Real GDP ACF')\n",
    "plot_pacf(centuriesDf_diff['Real GDP'], ax=ax2, title='Real GDP PACF')\n",
    "plt.show()"
   ]
  },
  {
   "cell_type": "code",
   "execution_count": 547,
   "metadata": {},
   "outputs": [
    {
     "data": {
      "image/png": "[encoded data removed]",
      "text/plain": [
       "<Figure size 1200x400 with 2 Axes>"
      ]
     },
     "metadata": {},
     "output_type": "display_data"
    }
   ],
   "source": [
    "fig, (ax1, ax2) = plt.subplots(1, 2, figsize=(12, 4), sharey=True)\n",
    "plot_acf(centuriesDf_diff['Unemployment Rate'], ax=ax1, title='Unemployment ACF')\n",
    "plot_pacf(centuriesDf_diff['Unemployment Rate'], ax=ax2, title='Unemployment PACF')\n",
    "plt.show()"
   ]
  },
  {
   "cell_type": "code",
   "execution_count": 548,
   "metadata": {},
   "outputs": [
    {
     "data": {
      "image/png": "[encoded data removed]",
      "text/plain": [
       "<Figure size 1200x400 with 2 Axes>"
      ]
     },
     "metadata": {},
     "output_type": "display_data"
    }
   ],
   "source": [
    "fig, (ax1, ax2) = plt.subplots(1, 2, figsize=(12, 4), sharey=True)\n",
    "plot_acf(centuriesDf_diff['Inflation'], ax=ax1, title='Inflation ACF')\n",
    "plot_pacf(centuriesDf_diff['Inflation'], ax=ax2, title='Inflation PACF')\n",
    "plt.show()"
   ]
  },
  {
   "cell_type": "markdown",
   "metadata": {},
   "source": [
    "#### **33. Explain the principle of parsimony and its relationship with Ockham’s razor using the theory of information criterion.**"
   ]
  },
  {
   "cell_type": "markdown",
   "metadata": {},
   "source": [
    "The principle of parsimony, often referred to as Ockham's razor, is a philosophical guideline that suggests when faced with multiple competing explanations or hypotheses, the one that makes the fewest assumptions should be selected. Essentially, among various hypotheses, the one that requires the least amount of assumptions is typically the most accurate.\n",
    "\n",
    "**Ockham's Razor**  \n",
    "Ockham's razor is a specific version of the principle of parsimony linked to the 14th-century English thinker William of Ockham. It emphasizes that one should not create more entities than necessary, meaning that unnecessary assumptions should be avoided. In practice, this often leads to a preference for simpler models over more complicated ones, especially when both can explain the data effectively.\n",
    "\n",
    "**Information Criterion Theory**  \n",
    "\n",
    "In the realm of statistical modeling and information theory, the principle of parsimony can be evaluated using specific criteria, like the Akaike Information Criterion (AIC) or the Bayesian Information Criterion (BIC). These criteria help assess and compare different statistical models based on how well they fit the data while also considering their complexity.\n",
    "\n",
    "**Akaike Information Criterion** (AIC): The AIC is determined by the formula:  \n",
    "$$AIC=2k−2ln(L)$$  \n",
    "where $k$ represents the number of parameters in the model and $L$ is the likelihood of the model given the data. The AIC rewards models that fit the data well but also penalizes those that are overly complex.\n",
    "\n",
    "**Bayesian Information Criterion** (BIC): The BIC is similar to the AIC but imposes a stronger penalty for the number of parameters:  \n",
    "$$BIC=ln(n)k−2ln(L)$$  \n",
    "\n",
    "where $n$ is the number of observations. The BIC tends to favor simpler models even more than the AIC, particularly as the sample size grows.\n",
    "\n",
    "The connection between the principle of parsimony, Ockham's razor, and information criteria can be explained like this:\n",
    "\n",
    "- Simplicity vs. Complexity: Both Ockham's razor and the principle of parsimony emphasize that simpler models or explanations are usually better. Information criteria like AIC and BIC put this idea into a mathematical context, helping to weigh the trade-off between how complex a model is and how well it fits the data.\n",
    "\n",
    "- Model Selection: When researchers use AIC or BIC, they are essentially applying Ockham's razor in a numerical way. They compare different models and choose the one with the lowest AIC or BIC score, which indicates it is the simplest model that still effectively describes the data.\n",
    "\n",
    "- Balancing Fit and Simplicity: Information criteria help to find a balance between how well a model fits the data and its complexity. This is at the heart of Ockham's razor: a model that fits the data too perfectly might be too complicated, making it less parsimonious and resulting in a higher AIC or BIC score.\n",
    "\n",
    "In summary, the principles of parsimony and Ockham's razor steer the model selection process toward simpler options, while information criteria offer a solid method for numerically comparing models that embody these principles."
   ]
  },
  {
   "cell_type": "markdown",
   "metadata": {},
   "source": [
    "#### **34. Explain the problem of auto-correction of the errors.**"
   ]
  },
  {
   "cell_type": "markdown",
   "metadata": {},
   "source": [
    "Auto-correlation of errors happens when the error terms in a regression model are linked to each other. This means that the errors from one time period rely on the errors from earlier periods, which goes against the idea that errors should be independent in regression analysis. When there is autocorrelation in the error terms, ordinary least squares (OLS) faces some problems. Even though the estimated regression coefficients are unbiased, they don't have the minimum variance property anymore. Moreover, the Mean Squared Error (MSE) can significantly underestimate the actual variance of the errors, and the standard error of the regression coefficients might greatly underestimate the real standard deviation. In these cases, the usual statistical intervals and inference methods may not be valid anymore."
   ]
  },
  {
   "cell_type": "markdown",
   "metadata": {},
   "source": [
    "#### **35. Using only stationary variables, run a regression of GDP on constant, unemployment and inflation and test the hypothesis of no-autocorrelation of errors.**"
   ]
  },
  {
   "cell_type": "markdown",
   "metadata": {},
   "source": [
    "#### **36. Regardless of your answer to question 35, correct auto-correlation with GLS. Test again for the presence of auto-correlation. Comment on your results.**"
   ]
  },
  {
   "cell_type": "markdown",
   "metadata": {},
   "source": [
    "#### **37. For all variables, construct their lag 1 and lag 2 variables.**"
   ]
  },
  {
   "cell_type": "markdown",
   "metadata": {},
   "source": [
    "#### **38. Run a regression of GDP on constant, lag 1 unemployment, lag 2 unemployment, lag 1 inflation, lag 2 inflation. What is the number of observations and why?**"
   ]
  },
  {
   "cell_type": "markdown",
   "metadata": {},
   "source": [
    "#### **39. State and test the no-Granger causality hypothesis of unemployment on GDP at the 1% level.**"
   ]
  },
  {
   "cell_type": "markdown",
   "metadata": {},
   "source": [
    "#### **40. Divide the sample in two groups: 1900-1960 and 1961-2000. Test the stability of coefficients between the two periods.**"
   ]
  },
  {
   "cell_type": "code",
   "execution_count": null,
   "metadata": {},
   "outputs": [
    {
     "name": "stdout",
     "output_type": "stream",
     "text": [
      "Chow Test Statistic: 166.091241202613\n",
      "Critical Value: 3.994698310457514\n",
      "p-value: 1.1102230246251565e-16\n",
      "Significance Level (alpha): 0.01\n",
      "Reject the null hypothesis: The regression coefficients differ between the two periods.\n"
     ]
    }
   ],
   "source": [
    "def perform_chow_test(dataset, breakpoint_year, start=1900, end=2000):\n",
    "    # Split the dataset into two subsets based on the breakpoint year\n",
    "    subset1 = dataset[dataset['Year'].between(start, breakpoint_year)]\n",
    "    subset2 = dataset[dataset['Year'].between(breakpoint_year + 1, end)].reset_index(drop=True)\n",
    "    \n",
    "    # Extract dependent and independent variables for both subsets\n",
    "    dependent1 = subset1['Real GDP']\n",
    "    dependent2 = subset2['Real GDP']\n",
    "    independent1 = subset1[['Unemployment Rate', 'Inflation']].apply(pd.to_numeric, errors='coerce')\n",
    "    independent2 = subset2[['Unemployment Rate', 'Inflation']].apply(pd.to_numeric, errors='coerce')\n",
    "    dependent1 = pd.to_numeric(dependent1, errors='coerce')\n",
    "    dependent2 = pd.to_numeric(dependent2, errors='coerce')\n",
    "    \n",
    "    # Fit regression models for each subset\n",
    "    model_subset1 = sm.OLS(dependent1, sm.add_constant(independent1)).fit()\n",
    "    model_subset2 = sm.OLS(dependent2, sm.add_constant(independent2)).fit()\n",
    "    \n",
    "    # Combine data for the overall model\n",
    "    combined_independent = np.vstack((independent1, independent2))\n",
    "    combined_dependent = np.concatenate((dependent1, dependent2))\n",
    "    combined_model = sm.OLS(combined_dependent, sm.add_constant(combined_independent)).fit()\n",
    "    \n",
    "    # Calculate sum of squared residuals (SSR)\n",
    "    total_ssr = combined_model.ssr\n",
    "    ssr_subset1 = model_subset1.ssr\n",
    "    ssr_subset2 = model_subset2.ssr\n",
    "    \n",
    "    # Compute the Chow test statistic\n",
    "    num_params = combined_independent.shape[1] + 1\n",
    "    total_obs = combined_model.nobs\n",
    "    chow_stat = ((total_ssr - (ssr_subset1 + ssr_subset2)) / num_params) / ((ssr_subset1 + ssr_subset2) / (total_obs - 2 * num_params))\n",
    "    \n",
    "    # Calculate critical value and p-value\n",
    "    significance_level = 0.01\n",
    "    p_value = 1 - f.cdf(chow_stat, num_params, total_obs - 2 * num_params)\n",
    "    critical_val = f.ppf(1 - significance_level, num_params, total_obs - 2 * num_params)\n",
    "    \n",
    "    # Return the results as a dictionary\n",
    "    return {\n",
    "        'Test Statistic': chow_stat,\n",
    "        'Critical Value': critical_val,\n",
    "        'p-value': p_value,\n",
    "        'Significance Level': significance_level\n",
    "    }\n",
    "\n",
    "# Perform the Chow test\n",
    "data_copy = centuriesDf.copy()\n",
    "break_year = 1960\n",
    "test_results = perform_chow_test(data_copy, break_year)\n",
    "\n",
    "# Extract and print results\n",
    "test_statistic = test_results['Test Statistic']\n",
    "critical_val = test_results['Critical Value']\n",
    "p_val = test_results['p-value']\n",
    "alpha = test_results['Significance Level']\n",
    "\n",
    "print(\"Chow Test Statistic:\", test_statistic)\n",
    "print(\"Critical Value:\", critical_val)\n",
    "print(\"p-value:\", p_val)\n",
    "print(\"Significance Level (alpha):\", alpha)\n",
    "\n",
    "# Interpret the results\n",
    "if test_statistic > critical_val:\n",
    "    print(\"Reject the null hypothesis: The regression coefficients differ between the two periods.\")\n",
    "else:\n",
    "    print(\"Fail to reject the null hypothesis: The regression coefficients are consistent between the two periods.\")\n"
   ]
  },
  {
   "cell_type": "markdown",
   "metadata": {},
   "source": [
    "#### **41. Test the structural breakpoint using a trim ratio of 30% at the 1% level.**"
   ]
  },
  {
   "cell_type": "code",
   "execution_count": null,
   "metadata": {},
   "outputs": [
    {
     "name": "stdout",
     "output_type": "stream",
     "text": [
      "chow_test_statistic =  86.14293774998397\n",
      "breakpoint_year =  1958\n",
      "critical_value =  3.7816241994522244\n",
      "p value =  1.1102230246251565e-16\n",
      "Reject the null hypothesis: there is at least one break in the regression function\n"
     ]
    }
   ],
   "source": [
    "trim_ratio = 0.3\n",
    "level = 0.01\n",
    "t0 = int(len(centuriesDf) * trim_ratio)\n",
    "t1 = len(centuriesDf) - t0\n",
    "start_year = 1900 + t0\n",
    "end_year = 2000 - t0\n",
    "greater_chow_test_statistic = float('-inf')\n",
    "breakpoint_year = 1900\n",
    "for t in range(t0 + 1, t1 - 1):\n",
    "    data = centuriesDf.copy()\n",
    "    split_year = 1900 + t\n",
    "    results = perform_chow_test(data, split_year, start=start_year, end=end_year)\n",
    "    chow_test_statistic = results['Test Statistic']\n",
    "    if chow_test_statistic > greater_chow_test_statistic:\n",
    "        greater_chow_test_statistic = chow_test_statistic\n",
    "        breakpoint_year = split_year\n",
    "    \n",
    "critical_value = f.ppf(1 - level, 3, 10000000)\n",
    "p_value = 1 - f.cdf(greater_chow_test_statistic, 3, 10000000)\n",
    "    \n",
    "print('chow_test_statistic = ', greater_chow_test_statistic)\n",
    "print('breakpoint_year = ', breakpoint_year)\n",
    "print('critical_value = ', critical_value)\n",
    "print('p value = ', p_value)\n",
    "\n",
    "if greater_chow_test_statistic > critical_value:\n",
    "    print(\"Reject the null hypothesis: there is at least one break in the regression function\")\n",
    "else:\n",
    "    print(\"Fail to reject the null hypothesis: there is no evidence to claim that there is a break in the regression function\")"
   ]
  },
  {
   "cell_type": "markdown",
   "metadata": {},
   "source": [
    "#### **42. Divide the sample into 3 periods of equal length. Test that the coefficients of the second and the third periods are equal. Formulate the null hypothesis and interpret your results.**"
   ]
  },
  {
   "cell_type": "code",
   "execution_count": null,
   "metadata": {},
   "outputs": [],
   "source": [
    "# delete the first and last entry\n",
    "centCopy = centuriesDf.copy()\n",
    "centCopy = centCopy.drop(0)\n",
    "centCopy = centCopy.drop(len(centuriesDf) - 1)\n",
    "\n",
    "centCopy1 = centCopy.iloc[:33]\n",
    "centCopy2 = centCopy.iloc[33:66]\n",
    "centCopy3 = centCopy.iloc[66:]"
   ]
  },
  {
   "cell_type": "code",
   "execution_count": null,
   "metadata": {},
   "outputs": [
    {
     "name": "stdout",
     "output_type": "stream",
     "text": [
      "Chow Test (Period 1 vs Period 2) - Statistic: 35.57424039453741\n",
      "Critical Value (Period 1 vs Period 2): 4.125891930795666\n",
      "p-value (Period 1 vs Period 2): 2.4436008771999695e-13\n",
      "Reject the null hypothesis: coefficients are different between Period 1 and Period 2.\n",
      "\n",
      "Chow Test (Period 2 vs Period 3) - Statistic: 66.62865033100027\n",
      "Critical Value (Period 2 vs Period 3): 4.125891930795666\n",
      "p-value (Period 2 vs Period 3): 1.1102230246251565e-16\n",
      "Reject the null hypothesis: coefficients are different between Period 2 and Period 3.\n",
      "\n",
      "Chow Test (Period 1 vs Period 3) - Statistic: 170.2725006792456\n",
      "Critical Value (Period 1 vs Period 3): 4.125891930795666\n",
      "p-value (Period 1 vs Period 3): 1.1102230246251565e-16\n",
      "Reject the null hypothesis: coefficients are different between Period 1 and Period 3.\n"
     ]
    }
   ],
   "source": [
    "# Define a function to perform the Chow test\n",
    "def chow_test(data1, data2, independent_vars, dependent_var):\n",
    "    # Ensure all columns are numeric and handle errors by coercing invalid entries to NaN\n",
    "    data1[independent_vars] = data1[independent_vars].apply(pd.to_numeric, errors='coerce')\n",
    "    data1[dependent_var] = pd.to_numeric(data1[dependent_var], errors='coerce')\n",
    "    \n",
    "    data2[independent_vars] = data2[independent_vars].apply(pd.to_numeric, errors='coerce')\n",
    "    data2[dependent_var] = pd.to_numeric(data2[dependent_var], errors='coerce')\n",
    "\n",
    "    # Drop any rows with missing values (NaN) after coercion\n",
    "    data1 = data1.dropna(subset=independent_vars + [dependent_var])\n",
    "    data2 = data2.dropna(subset=independent_vars + [dependent_var])\n",
    "\n",
    "    # Prepare the data for period 1 and period 2\n",
    "    X1 = sm.add_constant(data1[independent_vars])\n",
    "    y1 = data1[dependent_var]\n",
    "    \n",
    "    X2 = sm.add_constant(data2[independent_vars])\n",
    "    y2 = data2[dependent_var]\n",
    "    \n",
    "    # Fit the models for both periods\n",
    "    model1 = sm.OLS(y1, X1).fit()\n",
    "    model2 = sm.OLS(y2, X2).fit()\n",
    "    \n",
    "    # Fit the combined model for both periods\n",
    "    X_combined = sm.add_constant(pd.concat([data1[independent_vars], data2[independent_vars]]))\n",
    "    y_combined = pd.concat([y1, y2])\n",
    "    model_combined = sm.OLS(y_combined, X_combined).fit()\n",
    "    \n",
    "    # Calculate SSR (sum of squared residuals) for the combined and individual models\n",
    "    SSR_combined = model_combined.ssr\n",
    "    SSR1 = model1.ssr\n",
    "    SSR2 = model2.ssr\n",
    "    \n",
    "    # Number of observations and number of parameters\n",
    "    n = len(X_combined)\n",
    "    k = X_combined.shape[1]\n",
    "    \n",
    "    # Calculate the Chow test statistic\n",
    "    chow_test_statistic = ((SSR_combined - (SSR1 + SSR2)) / k) / ((SSR1 + SSR2) / (n - 2 * k))\n",
    "    \n",
    "    # Degrees of freedom for the F-statistic\n",
    "    df1 = k\n",
    "    df2 = n - 2 * k\n",
    "    \n",
    "    # Calculate the critical value and p-value for the Chow test\n",
    "    critical_value = f.ppf(1 - 0.01, df1, df2)  # 1% significance level\n",
    "    p_value = 1 - f.cdf(chow_test_statistic, df1, df2)\n",
    "    \n",
    "    return chow_test_statistic, critical_value, p_value\n",
    "\n",
    "# Divide the data into three periods\n",
    "centCopy1 = centCopy.iloc[:33]\n",
    "centCopy2 = centCopy.iloc[33:66]\n",
    "centCopy3 = centCopy.iloc[66:]\n",
    "\n",
    "# Set the variables\n",
    "independent_vars = ['Unemployment Rate', 'Inflation']  # Independent variables\n",
    "dependent_var = 'Real GDP'  # Dependent variable\n",
    "\n",
    "# Perform Chow test between period 1 and period 2\n",
    "chow_test_statistic_1_2, critical_value_1_2, p_value_1_2 = chow_test(centCopy1, centCopy2, independent_vars, dependent_var)\n",
    "# Perform Chow test between period 2 and period 3\n",
    "chow_test_statistic_2_3, critical_value_2_3, p_value_2_3 = chow_test(centCopy2, centCopy3, independent_vars, dependent_var)\n",
    "# Perform Chow test between period 1 and period 3\n",
    "chow_test_statistic_1_3, critical_value_1_3, p_value_1_3 = chow_test(centCopy1, centCopy3, independent_vars, dependent_var)\n",
    "\n",
    "# Output the results for Period 1 vs Period 2\n",
    "print(\"Chow Test (Period 1 vs Period 2) - Statistic:\", chow_test_statistic_1_2)\n",
    "print(\"Critical Value (Period 1 vs Period 2):\", critical_value_1_2)\n",
    "print(\"p-value (Period 1 vs Period 2):\", p_value_1_2)\n",
    "if chow_test_statistic_1_2 > critical_value_1_2:\n",
    "    print(\"Reject the null hypothesis: coefficients are different between Period 1 and Period 2.\")\n",
    "else:\n",
    "    print(\"Fail to reject the null hypothesis: coefficients are the same between Period 1 and Period 2.\")\n",
    "\n",
    "# Output the results for Period 2 vs Period 3\n",
    "print(\"\\nChow Test (Period 2 vs Period 3) - Statistic:\", chow_test_statistic_2_3)\n",
    "print(\"Critical Value (Period 2 vs Period 3):\", critical_value_2_3)\n",
    "print(\"p-value (Period 2 vs Period 3):\", p_value_2_3)\n",
    "if chow_test_statistic_2_3 > critical_value_2_3:\n",
    "    print(\"Reject the null hypothesis: coefficients are different between Period 2 and Period 3.\")\n",
    "else:\n",
    "    print(\"Fail to reject the null hypothesis: coefficients are the same between Period 2 and Period 3.\")\n",
    "\n",
    "# Output the results for Period 1 vs Period 3\n",
    "print(\"\\nChow Test (Period 1 vs Period 3) - Statistic:\", chow_test_statistic_1_3)\n",
    "print(\"Critical Value (Period 1 vs Period 3):\", critical_value_1_3)\n",
    "print(\"p-value (Period 1 vs Period 3):\", p_value_1_3)\n",
    "if chow_test_statistic_1_3 > critical_value_1_3:\n",
    "    print(\"Reject the null hypothesis: coefficients are different between Period 1 and Period 3.\")\n",
    "else:\n",
    "    print(\"Fail to reject the null hypothesis: coefficients are the same between Period 1 and Period 3.\")\n"
   ]
  }
 ],
 "metadata": {
  "kernelspec": {
   "display_name": "Python 3",
   "language": "python",
   "name": "python3"
  },
  "language_info": {
   "codemirror_mode": {
    "name": "ipython",
    "version": 3
   },
   "file_extension": ".py",
   "mimetype": "text/x-python",
   "name": "python",
   "nbconvert_exporter": "python",
   "pygments_lexer": "ipython3",
   "version": "3.10.12"
  }
 },
 "nbformat": 4,
 "nbformat_minor": 2
}
